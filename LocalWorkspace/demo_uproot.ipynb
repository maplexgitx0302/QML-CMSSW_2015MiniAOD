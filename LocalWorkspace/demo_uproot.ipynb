{
 "cells": [
  {
   "cell_type": "markdown",
   "metadata": {},
   "source": [
    "# Demo for uproot"
   ]
  },
  {
   "cell_type": "code",
   "execution_count": 133,
   "metadata": {},
   "outputs": [],
   "source": [
    "import numpy as np\n",
    "import uproot\n",
    "import awkward as ak\n",
    "\n",
    "num_events = 1000 #must be match to the existed root files name\n",
    "data_path = \"/Users/yianchen/CMS_Open_Data_Workspace/CMSSW_7_6_7/src/QCD_Jet_Fatjet/Analyzer/root_files/\"\n",
    "channels = [\n",
    "    \"ZprimeToZhToZinvhbb\",\n",
    "    \"ZprimeToZhToZlephbb\",\n",
    "    \"QCD_HT1500to2000\",\n",
    "    \"QCD_HT2000toInf\",\n",
    "]\n",
    "\n",
    "def get_events(idx):\n",
    "    print(channels[idx])\n",
    "    channel = channels[idx]\n",
    "    root_file = f\"{data_path}{channel}_{num_events}.root\"\n",
    "    events = uproot.open(root_file+f\":jets/Events\")\n",
    "    return events"
   ]
  },
  {
   "cell_type": "markdown",
   "metadata": {},
   "source": [
    "### Cut by Pt"
   ]
  },
  {
   "cell_type": "code",
   "execution_count": 138,
   "metadata": {},
   "outputs": [
    {
     "name": "stdout",
     "output_type": "stream",
     "text": [
      "ZprimeToZhToZlephbb\n"
     ]
    },
    {
     "data": {
      "text/plain": [
       "<Array [{fatjet_pt: [1.17e+03, ... 1.18]}] type='203 * ?{\"fatjet_pt\": var * floa...'>"
      ]
     },
     "execution_count": 138,
     "metadata": {},
     "output_type": "execute_result"
    }
   ],
   "source": [
    "events = get_events(1)\n",
    "cut_events = events.arrays(\n",
    "    expressions = [\"fatjet_pt\", \"fatjet_eta\", \"fatjet_phi\"],\n",
    "    cut = \"(fatjet_pt >= 800) & (fatjet_pt <= 1200)\"\n",
    ")\n",
    "\n",
    "max_pt_idx = ak.firsts(ak.argsort(cut_events[\"fatjet_pt\"], ascending=False))\n",
    "max_pt_idx = max_pt_idx[ak.is_none(max_pt_idx) == False]\n",
    "\n",
    "cut_events = cut_events[max_pt_idx]\n",
    "cut_events"
   ]
  }
 ],
 "metadata": {
  "kernelspec": {
   "display_name": "Python 3.9.12 64-bit ('shims')",
   "language": "python",
   "name": "python3"
  },
  "language_info": {
   "codemirror_mode": {
    "name": "ipython",
    "version": 3
   },
   "file_extension": ".py",
   "mimetype": "text/x-python",
   "name": "python",
   "nbconvert_exporter": "python",
   "pygments_lexer": "ipython3",
   "version": "3.9.12"
  },
  "orig_nbformat": 4,
  "vscode": {
   "interpreter": {
    "hash": "6f02055337d253f388db8c747d2eda41151d1a914a22500b5c34c6d448cd4f3e"
   }
  }
 },
 "nbformat": 4,
 "nbformat_minor": 2
}
