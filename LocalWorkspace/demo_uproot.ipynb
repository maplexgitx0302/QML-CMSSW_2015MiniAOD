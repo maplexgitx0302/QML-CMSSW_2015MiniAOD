{
 "cells": [
  {
   "cell_type": "markdown",
   "metadata": {},
   "source": [
    "# Demo for uproot"
   ]
  },
  {
   "cell_type": "code",
   "execution_count": 2,
   "metadata": {},
   "outputs": [],
   "source": [
    "import os\n",
    "import numpy as np\n",
    "import uproot\n",
    "import awkward as ak\n",
    "\n",
    "num_events = 50000 #must be match to the existed root files name\n",
    "data_path = os.path.expanduser(\"~/CMS_Open_Data_Workspace/CMSSW_7_6_7/src/QCD_Jet_Fatjet/Analyzer/root_files/\")\n",
    "channels = [\n",
    "    \"ZprimeToZhToZinvhbb\",\n",
    "    \"ZprimeToZhToZlephbb\",\n",
    "    \"QCD_HT1500to2000\",\n",
    "    \"QCD_HT2000toInf\",\n",
    "]\n",
    "\n",
    "def get_events(idx):\n",
    "    print(channels[idx])\n",
    "    channel = channels[idx]\n",
    "    root_file = f\"{data_path}{channel}_{num_events}.root\"\n",
    "    events = uproot.open(root_file+f\":jets/Events\")\n",
    "    return events"
   ]
  },
  {
   "cell_type": "markdown",
   "metadata": {},
   "source": [
    "### Cut by Pt"
   ]
  },
  {
   "cell_type": "code",
   "execution_count": 4,
   "metadata": {},
   "outputs": [
    {
     "name": "stdout",
     "output_type": "stream",
     "text": [
      "ZprimeToZhToZlephbb\n",
      "Number of events remain = 10319\n"
     ]
    }
   ],
   "source": [
    "events = get_events(1)\n",
    "cut_events = events.arrays(\n",
    "    expressions = [\"fatjet_pt\", \"fatjet_eta\", \"fatjet_phi\", \"fatjet_tau1\", \"fatjet_daughter_pt\"],\n",
    "    cut = \"(fatjet_pt >= 800) & (fatjet_pt <= 1200)\"\n",
    ")\n",
    "\n",
    "cut_events = cut_events[ak.num(cut_events)[\"fatjet_pt\"] > 0]\n",
    "print(f\"Number of events remain = {len(cut_events)}\")"
   ]
  },
  {
   "cell_type": "markdown",
   "metadata": {},
   "source": [
    "### Select the jet/fatjet with max Pt\n",
    "\n",
    "https://github.com/scikit-hep/awkward/discussions/1906#discussioncomment-4207964"
   ]
  },
  {
   "cell_type": "code",
   "execution_count": 5,
   "metadata": {},
   "outputs": [
    {
     "data": {
      "text/html": [
       "<pre>[[3],\n",
       " [4],\n",
       " [9]]\n",
       "---------------------\n",
       "type: 3 * var * int64</pre>"
      ],
      "text/plain": [
       "<Array [[3], [4], [9]] type='3 * var * int64'>"
      ]
     },
     "execution_count": 5,
     "metadata": {},
     "output_type": "execute_result"
    }
   ],
   "source": [
    "# demo advanced index\n",
    "\n",
    "x1 = ak.Array([\n",
    "    [1,2,3],\n",
    "    [4,5,6,7],\n",
    "    [8,9],\n",
    "])\n",
    "\n",
    "x2 = ak.Array([\n",
    "    [[-1,2], [3,4], [5,6]],\n",
    "    [[1,1], [2,2], [3,3], [4,4]],\n",
    "    [[1,2,3], [4,5,6]],\n",
    "])\n",
    "\n",
    "ix = ak.Array([\n",
    "    [2],\n",
    "    [0],\n",
    "    [1]\n",
    "])\n",
    "\n",
    "# ak.flatten(x1[ix], axis=1)\n",
    "x1[ix]"
   ]
  },
  {
   "cell_type": "code",
   "execution_count": 6,
   "metadata": {},
   "outputs": [
    {
     "name": "stdout",
     "output_type": "stream",
     "text": [
      "QCD_HT2000toInf\n",
      "[1.19e+03] [[2.96e-43, nan, 1.82e-43, 3.08e-44, ..., 3.08e-44, 2.96e-43, nan, nan]]\n",
      "[913] [[2.96e-43, nan, 2.96e-43, 3.08e-44, ..., 3.08e-44, 3.08e-44, 2.96e-43]]\n",
      "[906] [[2.96e-43, nan, nan, 2.96e-43, nan, ..., 3.08e-44, 2.96e-43, 3.08e-44, nan]]\n",
      "[1.54e+03] [[2.96e-43, nan, nan, 2.96e-43, nan, ..., 3.08e-44, 3.08e-44, nan, 2.96e-43]]\n",
      "[1.32e+03] [[nan, 2.96e-43, 2.96e-43, nan, nan, ..., 3.08e-44, nan, 3.08e-44, 3.08e-44]]\n"
     ]
    }
   ],
   "source": [
    "events = get_events(3)\n",
    "jet_type = \"fatjet\"\n",
    "events = events.arrays(filter_name=f\"{jet_type}*\")\n",
    "max_index = ak.firsts(ak.argsort(events[f\"{jet_type}_pt\"], ascending=False))\n",
    "max_index = ak.unflatten(max_index, counts=ak.ones_like(max_index))\n",
    "events = events[max_index]\n",
    "for i in range(5):\n",
    "    print(events[\"fatjet_pt\"][i], events[\"fatjet_daughter_pdgid\"][i])"
   ]
  }
 ],
 "metadata": {
  "kernelspec": {
   "display_name": "Python 3",
   "language": "python",
   "name": "python3"
  },
  "language_info": {
   "codemirror_mode": {
    "name": "ipython",
    "version": 3
   },
   "file_extension": ".py",
   "mimetype": "text/x-python",
   "name": "python",
   "nbconvert_exporter": "python",
   "pygments_lexer": "ipython3",
   "version": "3.9.12"
  },
  "orig_nbformat": 4,
  "vscode": {
   "interpreter": {
    "hash": "abdd0d95ca50f233d1202cce1ba28eab5ada50f7ec17823ef40ef9b79347f6f5"
   }
  }
 },
 "nbformat": 4,
 "nbformat_minor": 2
}
