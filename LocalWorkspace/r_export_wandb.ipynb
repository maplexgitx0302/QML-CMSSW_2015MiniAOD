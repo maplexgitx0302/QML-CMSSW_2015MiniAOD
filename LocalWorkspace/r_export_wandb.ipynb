{
 "cells": [
  {
   "cell_type": "code",
   "execution_count": 13,
   "metadata": {},
   "outputs": [
    {
     "name": "stdout",
     "output_type": "stream",
     "text": [
      "1250_ZprimeToZhToZinvhbb_QCD_HT2000toInf_fatjet_R0.25_Quantum2PCQNNForward_20230402_103814_pt_eta_phi_norm\n",
      "1250_ZprimeToZhToZinvhbb_QCD_HT2000toInf_fatjet_R0.25_Classical2PCNNForward_20230402_103814_pt_eta_phi_norm\n",
      "1250_ZprimeToZhToZinvhbb_QCD_HT2000toInf_fatjet_R0.25_Classical2PCNNForward_20230402_103814_pt_eta_phi\n",
      "1250_ZprimeToZhToZinvhbb_QCD_HT2000toInf_fatjet_R0.25_Quantum2PCQNNForward_20230402_102842_pt_eta_phi_norm\n",
      "1250_ZprimeToZhToZinvhbb_QCD_HT2000toInf_fatjet_R0.25_Classical2PCNNForward_20230402_102842_pt_eta_phi_norm\n",
      "1250_ZprimeToZhToZinvhbb_QCD_HT2000toInf_fatjet_R0.25_Classical2PCNNForward_20230402_102842_pt_eta_phi\n",
      "1250_ZprimeToZhToZinvhbb_QCD_HT2000toInf_fatjet_R0.25_Quantum2PCQNNForward_20230402_101354_pt_eta_phi_norm\n",
      "1250_ZprimeToZhToZinvhbb_QCD_HT2000toInf_fatjet_R0.25_Classical2PCNNForward_20230402_101354_pt_eta_phi_norm\n",
      "1250_ZprimeToZhToZinvhbb_QCD_HT2000toInf_fatjet_R0.25_Classical2PCNNForward_20230402_101354_pt_eta_phi\n"
     ]
    }
   ],
   "source": [
    "import wandb\n",
    "api = wandb.Api()\n",
    "\n",
    "date = \"20230329_151812\"\n",
    "id   = f\"1000_ZprimeToZhToZinvhbb_QCD_HT2000toInf_fatjet_(fatjet_pt>=500)&(fatjet_pt<=1500)_GraphConvModel_{date}_\"\n",
    "# run  = api.run(f\"ntuyianchen/g_4vec_2pcqnn/{id}\")\n",
    "\n",
    "for run in api.runs(\"ntuyianchen/g_4vec_2pcqnn\"):\n",
    "    print(run.id)\n",
    "    run = api.run(\"ntuyianchen/g_4vec_2pcqnn/\"+run.id)\n",
    "    run.delete()\n",
    "\n",
    "# pd = run.history()\n",
    "# pd[~pd[\"train_acc_epoch\"].isna()]"
   ]
  }
 ],
 "metadata": {
  "kernelspec": {
   "display_name": "Python 3",
   "language": "python",
   "name": "python3"
  },
  "language_info": {
   "codemirror_mode": {
    "name": "ipython",
    "version": 3
   },
   "file_extension": ".py",
   "mimetype": "text/x-python",
   "name": "python",
   "nbconvert_exporter": "python",
   "pygments_lexer": "ipython3",
   "version": "3.9.12"
  },
  "orig_nbformat": 4
 },
 "nbformat": 4,
 "nbformat_minor": 2
}
