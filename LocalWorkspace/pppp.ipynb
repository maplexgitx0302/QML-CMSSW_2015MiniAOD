{
 "cells": [
  {
   "cell_type": "code",
   "execution_count": 1,
   "metadata": {},
   "outputs": [
    {
     "name": "stdout",
     "output_type": "stream",
     "text": [
      "#--------------------------------------------------------------------------\n",
      "#                         FastJet release 3.4.0\n",
      "#                 M. Cacciari, G.P. Salam and G. Soyez                  \n",
      "#     A software package for jet finding and analysis at colliders      \n",
      "#                           http://fastjet.fr                           \n",
      "#\t                                                                      \n",
      "# Please cite EPJC72(2012)1896 [arXiv:1111.6097] if you use this package\n",
      "# for scientific work and optionally PLB641(2006)57 [hep-ph/0512210].   \n",
      "#                                                                       \n",
      "# FastJet is provided without warranty under the GNU GPL v2 or higher.  \n",
      "# It uses T. Chan's closest pair algorithm, S. Fortune's Voronoi code,\n",
      "# CGAL and 3rd party plugin jet algorithms. See COPYING file for details.\n",
      "#--------------------------------------------------------------------------\n",
      "DataLog: Successfully create VzToQCD_500k with 161199 events.\n"
     ]
    }
   ],
   "source": [
    "import d_mg5_data\n",
    "import awkward as ak\n",
    "import numpy as np\n",
    "import matplotlib.pyplot as plt\n",
    "import seaborn as sns\n",
    "sns.set_theme()\n",
    "\n",
    "events = d_mg5_data.FatJetEvents(\"VzToQCD_500k\", cut_pt=(800, 1000))"
   ]
  },
  {
   "cell_type": "code",
   "execution_count": 2,
   "metadata": {},
   "outputs": [
    {
     "name": "stdout",
     "output_type": "stream",
     "text": [
      "DataLog: Start reclustering VzToQCD_500k with radius 0.1\n",
      "DataLog: Finish reclustering VzToQCD_500k with radius 0.1\n"
     ]
    }
   ],
   "source": [
    "events.generate_fastjet_events(subjet_radius=0.1)"
   ]
  },
  {
   "cell_type": "code",
   "execution_count": 4,
   "metadata": {},
   "outputs": [
    {
     "name": "stdout",
     "output_type": "stream",
     "text": [
      "DataLog: Generate uniform Pt events (1/10) | number of bin events = 10000/15001\n",
      "DataLog: Generate uniform Pt events (2/10) | number of bin events = 10000/15832\n",
      "DataLog: Generate uniform Pt events (3/10) | number of bin events = 10000/16015\n",
      "DataLog: Generate uniform Pt events (4/10) | number of bin events = 10000/16330\n",
      "DataLog: Generate uniform Pt events (5/10) | number of bin events = 10000/16893\n",
      "DataLog: Generate uniform Pt events (6/10) | number of bin events = 10000/17188\n",
      "DataLog: Generate uniform Pt events (7/10) | number of bin events = 10000/16753\n",
      "DataLog: Generate uniform Pt events (8/10) | number of bin events = 10000/17112\n",
      "DataLog: Generate uniform Pt events (9/10) | number of bin events = 10000/15936\n",
      "DataLog: Generate uniform Pt events (10/10) | number of bin events = 10000/14139\n"
     ]
    },
    {
     "data": {
      "text/html": [
       "<pre>[{fatjet_pt: 803, fatjet_eta: -0.504, fatjet_phi: 0.295, ...},\n",
       " {fatjet_pt: 803, fatjet_eta: -0.496, fatjet_phi: -1.44, ...},\n",
       " {fatjet_pt: 800, fatjet_eta: -0.678, fatjet_phi: -0.335, ...},\n",
       " {fatjet_pt: 803, fatjet_eta: -0.469, fatjet_phi: -0.678, ...},\n",
       " {fatjet_pt: 810, fatjet_eta: 0.565, fatjet_phi: -1.99, ...},\n",
       " {fatjet_pt: 814, fatjet_eta: -0.291, fatjet_phi: 2.46, ...},\n",
       " {fatjet_pt: 804, fatjet_eta: 0.275, fatjet_phi: -1.52, ...},\n",
       " {fatjet_pt: 807, fatjet_eta: -1.69, fatjet_phi: -2.43, ...},\n",
       " {fatjet_pt: 806, fatjet_eta: 0.902, fatjet_phi: 1.09, ...},\n",
       " {fatjet_pt: 800, fatjet_eta: 1.5, fatjet_phi: -2.45, ...},\n",
       " ...,\n",
       " {fatjet_pt: 983, fatjet_eta: -0.116, fatjet_phi: 1.05, ...},\n",
       " {fatjet_pt: 989, fatjet_eta: -1.25, fatjet_phi: 2.12, ...},\n",
       " {fatjet_pt: 988, fatjet_eta: 0.589, fatjet_phi: -1.92, ...},\n",
       " {fatjet_pt: 988, fatjet_eta: -1.14, fatjet_phi: 1.21, ...},\n",
       " {fatjet_pt: 997, fatjet_eta: -0.858, fatjet_phi: -2.73, ...},\n",
       " {fatjet_pt: 999, fatjet_eta: -0.204, fatjet_phi: -1.11, ...},\n",
       " {fatjet_pt: 995, fatjet_eta: 0.207, fatjet_phi: -1.99, ...},\n",
       " {fatjet_pt: 995, fatjet_eta: -1.49, fatjet_phi: 2.79, ...},\n",
       " {fatjet_pt: 997, fatjet_eta: -0.418, fatjet_phi: 2.85, ...}]\n",
       "---------------------------------------------------------------\n",
       "type: 100000 * ?{\n",
       "    fatjet_pt: ?float32,\n",
       "    fatjet_eta: ?float32,\n",
       "    fatjet_phi: ?float32,\n",
       "    fatjet_daughter_e: option[var * float32],\n",
       "    fatjet_daughter_pt: option[var * float32],\n",
       "    fatjet_daughter_eta: option[var * float32],\n",
       "    fatjet_daughter_phi: option[var * float32],\n",
       "    fatjet_daughter_pid: option[var * int32],\n",
       "    fatjet_daughter_px: option[var * float32],\n",
       "    fatjet_daughter_py: option[var * float32],\n",
       "    fatjet_daughter_pz: option[var * float32],\n",
       "    fast_px: var * float64,\n",
       "    fast_py: var * float64,\n",
       "    fast_pz: var * float64,\n",
       "    fast_E: var * float64,\n",
       "    fast_e: var * float64,\n",
       "    fast_p: var * float64,\n",
       "    fast_pt: var * float64,\n",
       "    fast_theta: var * float64,\n",
       "    fast_eta: var * float64,\n",
       "    fast_phi: var * float64,\n",
       "    fast_delta_eta: var * float64,\n",
       "    fast_delta_phi: var * float64\n",
       "}</pre>"
      ],
      "text/plain": [
       "<Array [{fatjet_pt: 803, ...}, ..., {...}] type='100000 * ?{fatjet_pt: ?flo...'>"
      ]
     },
     "execution_count": 4,
     "metadata": {},
     "output_type": "execute_result"
    }
   ],
   "source": [
    "events.generate_uniform_pt_events(bin=10, num_bin_data=10000)"
   ]
  }
 ],
 "metadata": {
  "kernelspec": {
   "display_name": "Python 3",
   "language": "python",
   "name": "python3"
  },
  "language_info": {
   "codemirror_mode": {
    "name": "ipython",
    "version": 3
   },
   "file_extension": ".py",
   "mimetype": "text/x-python",
   "name": "python",
   "nbconvert_exporter": "python",
   "pygments_lexer": "ipython3",
   "version": "3.9.12"
  },
  "orig_nbformat": 4
 },
 "nbformat": 4,
 "nbformat_minor": 2
}
