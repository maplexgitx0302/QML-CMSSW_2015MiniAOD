{
 "cells": [
  {
   "cell_type": "code",
   "execution_count": 1,
   "metadata": {},
   "outputs": [
    {
     "name": "stdout",
     "output_type": "stream",
     "text": [
      "#--------------------------------------------------------------------------\n",
      "#                         FastJet release 3.4.0\n",
      "#                 M. Cacciari, G.P. Salam and G. Soyez                  \n",
      "#     A software package for jet finding and analysis at colliders      \n",
      "#                           http://fastjet.fr                           \n",
      "#\t                                                                      \n",
      "# Please cite EPJC72(2012)1896 [arXiv:1111.6097] if you use this package\n",
      "# for scientific work and optionally PLB641(2006)57 [hep-ph/0512210].   \n",
      "#                                                                       \n",
      "# FastJet is provided without warranty under the GNU GPL v2 or higher.  \n",
      "# It uses T. Chan's closest pair algorithm, S. Fortune's Voronoi code,\n",
      "# CGAL and 3rd party plugin jet algorithms. See COPYING file for details.\n",
      "#--------------------------------------------------------------------------\n",
      "DataLog: Successfully create pp_vz_zh with 9870 events.\n",
      "DataLog: Start reclustering pp_vz_zh with radius 0.4\n",
      "DataLog: Finish reclustering pp_vz_zh with radius 0.4\n"
     ]
    }
   ],
   "source": [
    "import d_mg5_data\n",
    "import awkward as ak\n",
    "import numpy as np\n",
    "import matplotlib.pyplot as plt\n",
    "import seaborn as sns\n",
    "sns.set_theme()\n",
    "\n",
    "channel = \"pp_vz_zh\"\n",
    "events  = d_mg5_data.FatJetEvents(channel, subjet_radius=0.4)"
   ]
  },
  {
   "cell_type": "code",
   "execution_count": 2,
   "metadata": {},
   "outputs": [
    {
     "data": {
      "text/plain": [
       "['fatjet_pt',\n",
       " 'fatjet_eta',\n",
       " 'fatjet_phi',\n",
       " 'fatjet_daughter_e',\n",
       " 'fatjet_daughter_pt',\n",
       " 'fatjet_daughter_eta',\n",
       " 'fatjet_daughter_phi',\n",
       " 'fatjet_daughter_pid',\n",
       " 'fatjet_daughter_px',\n",
       " 'fatjet_daughter_py',\n",
       " 'fatjet_daughter_pz',\n",
       " 'fast_px',\n",
       " 'fast_py',\n",
       " 'fast_pz',\n",
       " 'fast_E',\n",
       " 'fast_e',\n",
       " 'fast_p',\n",
       " 'fast_pt',\n",
       " 'fast_theta',\n",
       " 'fast_eta',\n",
       " 'fast_phi',\n",
       " 'fast_delta_eta',\n",
       " 'fast_delta_phi']"
      ]
     },
     "execution_count": 2,
     "metadata": {},
     "output_type": "execute_result"
    }
   ],
   "source": [
    "events.events.fields"
   ]
  }
 ],
 "metadata": {
  "kernelspec": {
   "display_name": "Python 3",
   "language": "python",
   "name": "python3"
  },
  "language_info": {
   "codemirror_mode": {
    "name": "ipython",
    "version": 3
   },
   "file_extension": ".py",
   "mimetype": "text/x-python",
   "name": "python",
   "nbconvert_exporter": "python",
   "pygments_lexer": "ipython3",
   "version": "3.9.12"
  },
  "orig_nbformat": 4
 },
 "nbformat": 4,
 "nbformat_minor": 2
}
