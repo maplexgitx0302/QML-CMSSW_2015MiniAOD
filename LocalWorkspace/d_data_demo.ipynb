{
 "cells": [
  {
   "cell_type": "code",
   "execution_count": null,
   "metadata": {},
   "outputs": [],
   "source": [
    "import uproot\n",
    "import torch\n",
    "import awkward as ak\n",
    "import d_hep_data"
   ]
  },
  {
   "cell_type": "code",
   "execution_count": null,
   "metadata": {},
   "outputs": [],
   "source": [
    "jet_type      = \"fatjet\"\n",
    "subjet_radius = 0.25\n",
    "channel       = \"ZprimeToZhToZinvhbb\"\n",
    "cut_limit     = (500, 1500)\n",
    "\n",
    "a = d_hep_data.events_uniform_Pt_weight(channel, 10000, jet_type, subjet_radius, cut_limit, 10, 100)"
   ]
  },
  {
   "cell_type": "code",
   "execution_count": null,
   "metadata": {},
   "outputs": [],
   "source": [
    "b = ak.zip(ak.broadcast_arrays(a[\"_pt\"], a[\"_delta_eta\"], a[\"_delta_phi\"]))\n",
    "b.to_list()"
   ]
  }
 ],
 "metadata": {
  "kernelspec": {
   "display_name": "Python 3",
   "language": "python",
   "name": "python3"
  },
  "language_info": {
   "codemirror_mode": {
    "name": "ipython",
    "version": 3
   },
   "file_extension": ".py",
   "mimetype": "text/x-python",
   "name": "python",
   "nbconvert_exporter": "python",
   "pygments_lexer": "ipython3",
   "version": "3.9.12"
  },
  "orig_nbformat": 4,
  "vscode": {
   "interpreter": {
    "hash": "abdd0d95ca50f233d1202cce1ba28eab5ada50f7ec17823ef40ef9b79347f6f5"
   }
  }
 },
 "nbformat": 4,
 "nbformat_minor": 2
}
