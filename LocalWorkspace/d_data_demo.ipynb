{
 "cells": [
  {
   "cell_type": "code",
   "execution_count": 1,
   "metadata": {},
   "outputs": [],
   "source": [
    "import awkward as ak\n",
    "from d_hep_data import JetEvents"
   ]
  },
  {
   "cell_type": "code",
   "execution_count": 2,
   "metadata": {},
   "outputs": [
    {
     "name": "stdout",
     "output_type": "stream",
     "text": [
      "DataLog: Successfully create ZprimeToZhToZinvhbb with 5000 events.\n",
      "#--------------------------------------------------------------------------\n",
      "#                         FastJet release 3.4.0\n",
      "#                 M. Cacciari, G.P. Salam and G. Soyez                  \n",
      "#     A software package for jet finding and analysis at colliders      \n",
      "#                           http://fastjet.fr                           \n",
      "#\t                                                                      \n",
      "# Please cite EPJC72(2012)1896 [arXiv:1111.6097] if you use this package\n",
      "# for scientific work and optionally PLB641(2006)57 [hep-ph/0512210].   \n",
      "#                                                                       \n",
      "# FastJet is provided without warranty under the GNU GPL v2 or higher.  \n",
      "# It uses T. Chan's closest pair algorithm, S. Fortune's Voronoi code,\n",
      "# CGAL and 3rd party plugin jet algorithms. See COPYING file for details.\n",
      "#--------------------------------------------------------------------------\n",
      "px for original jets and fastjets\n",
      "[-1.03e+03, 202, 1.51e+03, -1.54e+03, ..., 682, 1.63e+03, -1.49e+03, 1.56e+03]\n",
      "[-1.03e+03, 202, 1.51e+03, -1.54e+03, ..., 682, 1.63e+03, -1.49e+03, 1.56e+03]\n",
      "py for original jets and fastjets\n",
      "[-1.23e+03, -1.51e+03, 2.58, -217, -204, -1e+03, -1.48e+03, 158, -696, 609]\n",
      "[-1.23e+03, -1.51e+03, 2.58, -217, -204, -1e+03, -1.48e+03, 158, -696, 609]\n",
      "pz for original jets and fastjets\n",
      "[-1.07e+03, 94.9, -358, 663, 659, ..., 710, -1.12e+03, -1.48e+03, -1.05e+03]\n",
      "[-1.07e+03, 95, -358, 663, 659, 212, 710, -1.12e+03, -1.48e+03, -1.05e+03]\n"
     ]
    }
   ],
   "source": [
    "jet_type      = \"fatjet\"\n",
    "subjet_radius = 0.2\n",
    "cut           = f\"({jet_type}_pt>=500)&({jet_type}_pt<=1500)\",\n",
    "channel   = \"ZprimeToZhToZinvhbb\"\n",
    "\n",
    "jet_events = JetEvents(channel=channel, num_events=5000, jet_type=jet_type, cut=cut)\n",
    "fastjet    = jet_events.fastjet_events(R=subjet_radius)\n",
    "\n",
    "for p in [\"px\", \"py\", \"pz\"]:\n",
    "    print(f\"{p} for original jets and fastjets\")\n",
    "    print(jet_events.events[f\"{jet_type}_{p}\"][:10])\n",
    "    print(ak.sum(fastjet[p][:10], axis=1))"
   ]
  }
 ],
 "metadata": {
  "kernelspec": {
   "display_name": "Python 3",
   "language": "python",
   "name": "python3"
  },
  "language_info": {
   "codemirror_mode": {
    "name": "ipython",
    "version": 3
   },
   "file_extension": ".py",
   "mimetype": "text/x-python",
   "name": "python",
   "nbconvert_exporter": "python",
   "pygments_lexer": "ipython3",
   "version": "3.9.12"
  },
  "orig_nbformat": 4,
  "vscode": {
   "interpreter": {
    "hash": "abdd0d95ca50f233d1202cce1ba28eab5ada50f7ec17823ef40ef9b79347f6f5"
   }
  }
 },
 "nbformat": 4,
 "nbformat_minor": 2
}
