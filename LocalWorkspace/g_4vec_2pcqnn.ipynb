{
 "cells": [
  {
   "attachments": {},
   "cell_type": "markdown",
   "metadata": {},
   "source": [
    "## Setup"
   ]
  },
  {
   "attachments": {},
   "cell_type": "markdown",
   "metadata": {},
   "source": [
    "### Packages\n",
    "\n",
    "- `awkward`: For dealing with nested, variable-sized data.\n",
    "- `pennylane`: Quantum machine learning.\n",
    "- `lightning`: Simplifying training process.\n",
    "- `pytorch_geometric`: Graph neural network package.\n",
    "- `wandb`: Monitoring training process."
   ]
  },
  {
   "cell_type": "code",
   "execution_count": 1,
   "metadata": {},
   "outputs": [
    {
     "name": "stdout",
     "output_type": "stream",
     "text": [
      "#--------------------------------------------------------------------------\n",
      "#                         FastJet release 3.4.0\n",
      "#                 M. Cacciari, G.P. Salam and G. Soyez                  \n",
      "#     A software package for jet finding and analysis at colliders      \n",
      "#                           http://fastjet.fr                           \n",
      "#\t                                                                      \n",
      "# Please cite EPJC72(2012)1896 [arXiv:1111.6097] if you use this package\n",
      "# for scientific work and optionally PLB641(2006)57 [hep-ph/0512210].   \n",
      "#                                                                       \n",
      "# FastJet is provided without warranty under the GNU GPL v2 or higher.  \n",
      "# It uses T. Chan's closest pair algorithm, S. Fortune's Voronoi code,\n",
      "# CGAL and 3rd party plugin jet algorithms. See COPYING file for details.\n",
      "#--------------------------------------------------------------------------\n"
     ]
    },
    {
     "name": "stderr",
     "output_type": "stream",
     "text": [
      "/home/yianchen/.pyenv/versions/3.9.12/lib/python3.9/site-packages/tqdm/auto.py:22: TqdmWarning: IProgress not found. Please update jupyter and ipywidgets. See https://ipywidgets.readthedocs.io/en/stable/user_install.html\n",
      "  from .autonotebook import tqdm as notebook_tqdm\n",
      "ERROR:wandb.jupyter:Failed to detect the name of this notebook, you can set it manually with the WANDB_NOTEBOOK_NAME environment variable to enable code saving.\n",
      "\u001b[34m\u001b[1mwandb\u001b[0m: Currently logged in as: \u001b[33mntuyianchen\u001b[0m. Use \u001b[1m`wandb login --relogin`\u001b[0m to force relogin\n",
      "INFO: Global seed set to 3020616\n",
      "INFO:lightning.fabric.utilities.seed:Global seed set to 3020616\n"
     ]
    }
   ],
   "source": [
    "# basic packages\n",
    "import os, glob, random\n",
    "from itertools import product\n",
    "import matplotlib.pyplot as plt\n",
    "\n",
    "# data\n",
    "import awkward as ak\n",
    "from d_hep_data import JetEvents\n",
    "\n",
    "# qml\n",
    "import pennylane as qml\n",
    "from pennylane import numpy as np\n",
    "\n",
    "# pytorch\n",
    "import torch\n",
    "import torch.nn as nn\n",
    "import torch.optim as optim\n",
    "from torch.nn import functional as F\n",
    "\n",
    "# pytorch_lightning\n",
    "import lightning as L\n",
    "import lightning.pytorch as pl\n",
    "import torchmetrics\n",
    "\n",
    "# pytorch_geometric\n",
    "import networkx as nx\n",
    "import torch_geometric.nn as geom_nn\n",
    "from torch_geometric.data import Data\n",
    "from torch_geometric.loader import DataLoader\n",
    "\n",
    "# wandb\n",
    "import wandb\n",
    "from lightning.pytorch.loggers import WandbLogger\n",
    "wandb.login()\n",
    "\n",
    "# reproducibility\n",
    "L.seed_everything(3020616)\n",
    "torch.backends.cudnn.deterministic = True\n",
    "torch.backends.cudnn.benchmark = False\n",
    "\n",
    "# faster calculation on GPU but less precision\n",
    "torch.set_float32_matmul_precision(\"medium\")"
   ]
  },
  {
   "attachments": {},
   "cell_type": "markdown",
   "metadata": {},
   "source": [
    "### Configurations\n",
    "\n",
    "Hyperparameters and configurations for:\n",
    "- Data (channel, .etc)\n",
    "- Training process (Trainer, .etc)\n",
    "- Model architecture (input/output dimension, .etc)"
   ]
  },
  {
   "cell_type": "code",
   "execution_count": 2,
   "metadata": {},
   "outputs": [],
   "source": [
    "# configuration dictionary\n",
    "cf = {}\n",
    "cf[\"wandb\"]    = True\n",
    "cf[\"project\"]  = \"g_4vec_2pcqnn\"\n",
    "\n",
    "# data infotmation\n",
    "cf[\"num_events\"]    = \"5000\"\n",
    "cf[\"sig_channel\"]   = \"ZprimeToZhToZinvhbb\"\n",
    "cf[\"bkg_channel\"]   = \"QCD_HT2000toInf\"\n",
    "cf[\"jet_type\"]      = \"fatjet\"\n",
    "cf[\"cut\"]           = f\"({cf['jet_type']}_pt>=500)&({cf['jet_type']}_pt<=1500)\"\n",
    "cf[\"subjet_radius\"] = 0.1\n",
    "\n",
    "# traning configuration\n",
    "cf[\"num_train_ratio\"] = 0.4\n",
    "cf[\"num_test_ratio\"]  = 0.4\n",
    "cf[\"batch_size\"]      = 64\n",
    "cf[\"num_workers\"]     = 12\n",
    "cf[\"max_epochs\"]      = 10\n",
    "cf[\"accelerator\"]     = \"gpu\"\n",
    "cf[\"num_data\"]        = 1000\n",
    "cf[\"fast_dev_run\"]    = False\n",
    "\n",
    "# model hyperparameters\n",
    "cf[\"loss_function\"]  = nn.BCEWithLogitsLoss()\n",
    "cf[\"optimizer\"]      = optim.AdamW\n",
    "cf[\"learning_rate\"]  = 1E-3\n",
    "cf[\"gnn_hidden\"]     = 16\n",
    "cf[\"gnn_num_layers\"] = 3\n",
    "cf[\"mlp_hidden\"]     = 64\n",
    "cf[\"mlp_num_layers\"] = 2"
   ]
  },
  {
   "attachments": {},
   "cell_type": "markdown",
   "metadata": {},
   "source": [
    "### Data Module\n",
    "\n",
    "In this project, we train with data containing only the four momentum of particles. In order to reduce the size of the data (due to the long training time for quantum machine learning), we reduce the size of data by `fastjet` package by clustering particles again by `anti-kt algorithm` with smaller radius.\n",
    "\n",
    "The detail (source code) for creating fastjet reclustering events is in the `d_hep_data` file.\n",
    "\n",
    "To test the power of QML for learning space structure of data (geometric angles, e.g. $p_t$, $\\eta$, $\\phi$), we will use four momentum only (or z-boosted invariant variables $p_t$, $\\eta$, $\\phi$)."
   ]
  },
  {
   "cell_type": "code",
   "execution_count": 3,
   "metadata": {},
   "outputs": [],
   "source": [
    "class JetDataModule(pl.LightningDataModule):\n",
    "    def __init__(self):\n",
    "        super().__init__()\n",
    "        # jet events\n",
    "        self.sig_data_list = self._create_data_list(cf[\"sig_channel\"], 1)\n",
    "        self.bkg_data_list = self._create_data_list(cf[\"bkg_channel\"], 0)\n",
    "\n",
    "        # count the number of training, validation, and testing\n",
    "        assert len(self.sig_data_list) >= cf[\"num_data\"], f\"sig data not enough: {len(self.sig_data_list)} < {cf['num_data']}\"\n",
    "        assert len(self.bkg_data_list) >= cf[\"num_data\"], f\"bkg data not enough: {len(self.bkg_data_list)} < {cf['num_data']}\"\n",
    "        num_train = int(cf[\"num_data\"] * cf[\"num_train_ratio\"])\n",
    "        num_test  = int(cf[\"num_data\"] * cf[\"num_test_ratio\"])\n",
    "        num_valid = cf[\"num_data\"] - num_train - num_test\n",
    "        print(f\"DataLog: {cf['sig_channel']} has {len(self.sig_data_list)} events and {cf['bkg_channel']} has {len(self.bkg_data_list)} events.\")\n",
    "        print(f\"Choose num_data for each channel to be {cf['num_data']} | Each channel  has num_train = {num_train}, num_valid = {num_valid}, num_test = {num_test}\")\n",
    "\n",
    "        # prepare dataset for dataloader\n",
    "        train_idx = num_train\n",
    "        valid_idx = num_train + num_valid\n",
    "        test_idx  = num_train + num_valid + num_test\n",
    "        self.train_dataset = self.sig_data_list[:train_idx] + self.bkg_data_list[:train_idx]\n",
    "        self.valid_dataset = self.sig_data_list[train_idx:valid_idx] + self.bkg_data_list[train_idx:valid_idx]\n",
    "        self.test_dataset  = self.sig_data_list[valid_idx:test_idx] + self.bkg_data_list[valid_idx:test_idx]\n",
    "    \n",
    "    def _create_data_list(self, channel, y):\n",
    "        # use fastjet to recluster jet events into subjet events\n",
    "        jet_events     = JetEvents(channel, cf[\"num_events\"], cf[\"jet_type\"], cf[\"cut\"])\n",
    "        fastjet_events = jet_events.fastjet_events(R=cf[\"subjet_radius\"])\n",
    "        # list for saving pytorch_geometric \"Data\"\n",
    "        data_list = []\n",
    "        for e in fastjet_events:\n",
    "            # create pytorch_geometric \"Data\" object\n",
    "            x = torch.tensor([e[\"pt\"], e[\"delta_eta\"], e[\"delta_phi\"]], dtype=torch.float32)\n",
    "            x = torch.transpose(x, 0, 1)\n",
    "            edge_index = list(product(range(len(e)), range(len(e))))\n",
    "            edge_index = torch.transpose(torch.tensor(edge_index), 0, 1)\n",
    "            x.requires_grad, edge_index.requires_grad = False, False\n",
    "            data_list.append(Data(x=x, edge_index=edge_index, y=y))\n",
    "        random.shuffle(data_list)\n",
    "        return data_list\n",
    "\n",
    "    def train_dataloader(self):\n",
    "        return DataLoader(self.train_dataset, batch_size=cf[\"batch_size\"], num_workers=cf[\"num_workers\"],  shuffle=True)\n",
    "\n",
    "    def val_dataloader(self):\n",
    "        return DataLoader(self.valid_dataset, batch_size=cf[\"batch_size\"], num_workers=cf[\"num_workers\"])\n",
    "\n",
    "    def test_dataloader(self):\n",
    "        return DataLoader(self.test_dataset, batch_size=cf[\"batch_size\"], num_workers=cf[\"num_workers\"])"
   ]
  },
  {
   "attachments": {},
   "cell_type": "markdown",
   "metadata": {},
   "source": [
    "## Models\n",
    "\n",
    "To compare classical GNN with quantum GNN, we use `GraphConv` and `MessagePassing` with `pennylane` for classical and quantum repectively.\n",
    "\n",
    "- Why using `nn.ModuleList` instead of `nn.Sequential`?\n",
    "Both `nn.ModuleList` and `nn.Sequential` trace the trainable parameters autometically. However, since we are using \"gnn\" layers, we need to feed into additional argument `edge_index`. In order to check whether we are using \"gnn\" layers or not, we use `isinstance` to check the class type (Since all PyTorch Geometric graph layer inherit the class `MessagePassing`). For detail, see [When should I use nn.ModuleList and when should I use nn.Sequential?](https://discuss.pytorch.org/t/when-should-i-use-nn-modulelist-and-when-should-i-use-nn-sequential/5463/3)"
   ]
  },
  {
   "attachments": {},
   "cell_type": "markdown",
   "metadata": {},
   "source": [
    "### Classical GNN Model"
   ]
  },
  {
   "cell_type": "code",
   "execution_count": 4,
   "metadata": {},
   "outputs": [],
   "source": [
    "class GraphConvModel(nn.Module):\n",
    "    def __init__(self, gnn_in, gnn_hidden, gnn_out, gnn_num_layers, mlp_hidden, mlp_num_layers):\n",
    "        super().__init__()\n",
    "        # graph neural network\n",
    "        if gnn_num_layers == 1:\n",
    "            gnn_layers = [geom_nn.GraphConv(in_channels=gnn_in, out_channels=gnn_out), nn.ReLU()]\n",
    "        else:\n",
    "            gnn_layers = [geom_nn.GraphConv(in_channels=gnn_in, out_channels=gnn_hidden), nn.ReLU()]\n",
    "            for _ in range(gnn_num_layers-2):\n",
    "                gnn_layers += [geom_nn.GraphConv(in_channels=gnn_hidden, out_channels=gnn_hidden), nn.ReLU()]\n",
    "            gnn_layers += [geom_nn.GraphConv(in_channels=gnn_hidden, out_channels=gnn_out)]\n",
    "        self.gnn_layers = nn.ModuleList(gnn_layers)\n",
    "\n",
    "        # multi-layer perceptron\n",
    "        if mlp_num_layers == 1:\n",
    "            mlp_layers = [nn.Linear(gnn_out, 1), nn.ReLU()]\n",
    "        else:\n",
    "            mlp_layers = [nn.Linear(gnn_out, mlp_hidden), nn.ReLU()]\n",
    "            for _ in range(mlp_num_layers-2):\n",
    "                mlp_layers += [nn.Linear(mlp_hidden, mlp_hidden), nn.ReLU()]\n",
    "            mlp_layers += [nn.Linear(mlp_hidden, 1)]\n",
    "        self.mlp_layers = nn.Sequential(*mlp_layers)\n",
    "        \n",
    "    def forward(self, x, edge_index, batch):\n",
    "        # gnn message passing\n",
    "        for layer in self.gnn_layers:\n",
    "            if isinstance(layer, geom_nn.MessagePassing):\n",
    "                x = layer(x, edge_index)\n",
    "            else:\n",
    "                x = layer(x)\n",
    "        \n",
    "        # gnn graph aggregation and mlp\n",
    "        x = geom_nn.global_mean_pool(x, batch)\n",
    "        x = self.mlp_layers(x)\n",
    "        return x"
   ]
  },
  {
   "attachments": {},
   "cell_type": "markdown",
   "metadata": {},
   "source": [
    "### Lightning Module\n",
    "\n",
    "Most of the hyperparameters are defined at `cf` configuration dictionary.\n",
    "\n",
    "Note that when using `nn.BCEWithLogitsLoss`, the first argument should not be paased to `sigmoid`."
   ]
  },
  {
   "cell_type": "code",
   "execution_count": 5,
   "metadata": {},
   "outputs": [],
   "source": [
    "class LitModel(L.LightningModule):\n",
    "    def __init__(self, model):\n",
    "        super().__init__()\n",
    "        self.save_hyperparameters(ignore=['model'])\n",
    "        self.model = model\n",
    "        self.loss_function = cf[\"loss_function\"]\n",
    "\n",
    "    def forward(self, data):\n",
    "        # predict y\n",
    "        x, edge_index, batch = data.x, data.edge_index, data.batch\n",
    "        x = self.model(x, edge_index, batch)\n",
    "        x = x.squeeze(dim=-1)\n",
    "\n",
    "        # calculate loss and accuracy\n",
    "        y_pred = (x>0).float()\n",
    "        y_true = data.y.float()\n",
    "        loss   = self.loss_function(x, y_true)\n",
    "        acc    = (y_pred == data.y).float().mean()\n",
    "        return loss, acc\n",
    "\n",
    "    def configure_optimizers(self):\n",
    "        optimizer = cf[\"optimizer\"](self.parameters(), lr=cf[\"learning_rate\"])\n",
    "        return optimizer\n",
    "\n",
    "    def training_step(self, data, batch_idx):\n",
    "        loss, acc = self.forward(data)\n",
    "        self.log(\"train_loss\", loss, on_epoch=True, batch_size=len(data.x))\n",
    "        self.log(\"train_acc\", acc, on_epoch=True, batch_size=len(data.x))\n",
    "        return loss\n",
    "\n",
    "    def validation_step(self, data, batch_idx):\n",
    "        loss, acc = self.forward(data)\n",
    "        self.log(\"train_loss\", loss, on_epoch=True, batch_size=len(data.x))\n",
    "        self.log(\"train_acc\", acc, on_epoch=True, batch_size=len(data.x))\n",
    "        return loss\n",
    "\n",
    "    def test_step(self, data, batch_idx):\n",
    "        _, acc = self.forward(data)\n",
    "        self.log(\"test_acc\", acc, on_epoch=True, batch_size=len(data.x))"
   ]
  },
  {
   "attachments": {},
   "cell_type": "markdown",
   "metadata": {},
   "source": [
    "## Train/Test the Model"
   ]
  },
  {
   "attachments": {},
   "cell_type": "markdown",
   "metadata": {},
   "source": [
    "### Training procedure"
   ]
  },
  {
   "cell_type": "code",
   "execution_count": 6,
   "metadata": {},
   "outputs": [],
   "source": [
    "def train(model, data_module, name_prefix=\"\", name_suffix=\"\"):\n",
    "    # setup id and path for saving\n",
    "    name     = f\"{name_prefix}_{model.__class__.__name__}_{name_suffix}\"\n",
    "    save_dir = f\"./result/\"\n",
    "    if not os.path.isdir(save_dir):\n",
    "        os.makedirs(save_dir)\n",
    "    \n",
    "    # wandb logger setup\n",
    "    if cf[\"wandb\"]:\n",
    "        project     = cf['project']\n",
    "        group       = f\"{cf['num_data']}_{cf['sig_channel']}_{cf['bkg_channel']}_{cf['jet_type']}_{cf['cut']}\"\n",
    "        job_type    = model.__class__.__name__\n",
    "        wandb_logger = WandbLogger(project=project, group=group, job_type=job_type, name=name, id=name, save_dir=save_dir)\n",
    "        wandb_logger.experiment.config.update(cf)\n",
    "        wandb_logger.watch(model, log=\"all\")\n",
    "    \n",
    "    # start lightning training\n",
    "    logger   = wandb_logger if cf[\"wandb\"] else None\n",
    "    trainer  = L.Trainer(logger=logger, accelerator=cf[\"accelerator\"], max_epochs=cf[\"max_epochs\"], fast_dev_run=cf[\"fast_dev_run\"])\n",
    "    litmodel = LitModel(model)\n",
    "    trainer.fit(litmodel, datamodule=data_module)\n",
    "    trainer.test(litmodel, datamodule=data_module)\n",
    "\n",
    "    # finish wandb monitoring\n",
    "    if cf[\"wandb\"]:\n",
    "        wandb.finish()"
   ]
  },
  {
   "attachments": {},
   "cell_type": "markdown",
   "metadata": {},
   "source": [
    "### Load data and set up sub-config dictionaries"
   ]
  },
  {
   "cell_type": "code",
   "execution_count": 7,
   "metadata": {},
   "outputs": [
    {
     "name": "stdout",
     "output_type": "stream",
     "text": [
      "DataLog: Successfully create ZprimeToZhToZinvhbb with 2980 events.\n",
      "DataLog: Finish reclustering ZprimeToZhToZinvhbb with anti-kt algorithm.\n",
      "DataLog: Successfully create QCD_HT2000toInf with 4917 events.\n",
      "DataLog: Finish reclustering QCD_HT2000toInf with anti-kt algorithm.\n",
      "DataLog: ZprimeToZhToZinvhbb has 2980 events and QCD_HT2000toInf has 4917 events.\n",
      "Choose num_data for each channel to be 1000 | Each channel  has num_train = 400, num_valid = 200, num_test = 400\n"
     ]
    }
   ],
   "source": [
    "# load data\n",
    "data_module = JetDataModule()\n",
    "input_dim   = data_module.train_dataset[0].x.shape[1]\n",
    "\n",
    "# classical GrapgConv model\n",
    "cf_graph_conv = {\n",
    "    \"gnn_in\"        : input_dim, \n",
    "    \"gnn_hidden\"    : cf[\"gnn_hidden\"], \n",
    "    \"gnn_out\"       : cf[\"gnn_hidden\"], \n",
    "    \"gnn_num_layers\": cf[\"gnn_num_layers\"],\n",
    "    \"mlp_hidden\"    : cf[\"mlp_hidden\"], \n",
    "    \"mlp_num_layers\": cf[\"mlp_num_layers\"],\n",
    "}"
   ]
  },
  {
   "attachments": {},
   "cell_type": "markdown",
   "metadata": {},
   "source": [
    "### Start training each model"
   ]
  },
  {
   "cell_type": "code",
   "execution_count": 8,
   "metadata": {},
   "outputs": [
    {
     "data": {
      "text/html": [
       "Tracking run with wandb version 0.14.0"
      ],
      "text/plain": [
       "<IPython.core.display.HTML object>"
      ]
     },
     "metadata": {},
     "output_type": "display_data"
    },
    {
     "data": {
      "text/html": [
       "Run data is saved locally in <code>./result/wandb/run-20230328_173224-_GraphConvModel_</code>"
      ],
      "text/plain": [
       "<IPython.core.display.HTML object>"
      ]
     },
     "metadata": {},
     "output_type": "display_data"
    },
    {
     "data": {
      "text/html": [
       "Resuming run <strong><a href='https://wandb.ai/ntuyianchen/g_4vec_2pcqnn/runs/_GraphConvModel_' target=\"_blank\">_GraphConvModel_</a></strong> to <a href='https://wandb.ai/ntuyianchen/g_4vec_2pcqnn' target=\"_blank\">Weights & Biases</a> (<a href='https://wandb.me/run' target=\"_blank\">docs</a>)<br/>"
      ],
      "text/plain": [
       "<IPython.core.display.HTML object>"
      ]
     },
     "metadata": {},
     "output_type": "display_data"
    },
    {
     "data": {
      "text/html": [
       " View project at <a href='https://wandb.ai/ntuyianchen/g_4vec_2pcqnn' target=\"_blank\">https://wandb.ai/ntuyianchen/g_4vec_2pcqnn</a>"
      ],
      "text/plain": [
       "<IPython.core.display.HTML object>"
      ]
     },
     "metadata": {},
     "output_type": "display_data"
    },
    {
     "data": {
      "text/html": [
       " View run at <a href='https://wandb.ai/ntuyianchen/g_4vec_2pcqnn/runs/_GraphConvModel_' target=\"_blank\">https://wandb.ai/ntuyianchen/g_4vec_2pcqnn/runs/_GraphConvModel_</a>"
      ],
      "text/plain": [
       "<IPython.core.display.HTML object>"
      ]
     },
     "metadata": {},
     "output_type": "display_data"
    },
    {
     "name": "stderr",
     "output_type": "stream",
     "text": [
      "\u001b[34m\u001b[1mwandb\u001b[0m: logging graph, to disable use `wandb.watch(log_graph=False)`\n",
      "INFO:pytorch_lightning.utilities.rank_zero:GPU available: True (cuda), used: True\n",
      "INFO:pytorch_lightning.utilities.rank_zero:TPU available: False, using: 0 TPU cores\n",
      "INFO:pytorch_lightning.utilities.rank_zero:IPU available: False, using: 0 IPUs\n",
      "INFO:pytorch_lightning.utilities.rank_zero:HPU available: False, using: 0 HPUs\n",
      "INFO: LOCAL_RANK: 0 - CUDA_VISIBLE_DEVICES: [0]\n",
      "INFO:lightning.pytorch.accelerators.cuda:LOCAL_RANK: 0 - CUDA_VISIBLE_DEVICES: [0]\n",
      "INFO: \n",
      "  | Name          | Type              | Params\n",
      "----------------------------------------------------\n",
      "0 | model         | GraphConvModel    | 2.3 K \n",
      "1 | loss_function | BCEWithLogitsLoss | 0     \n",
      "----------------------------------------------------\n",
      "2.3 K     Trainable params\n",
      "0         Non-trainable params\n",
      "2.3 K     Total params\n",
      "0.009     Total estimated model params size (MB)\n",
      "INFO:lightning.pytorch.callbacks.model_summary:\n",
      "  | Name          | Type              | Params\n",
      "----------------------------------------------------\n",
      "0 | model         | GraphConvModel    | 2.3 K \n",
      "1 | loss_function | BCEWithLogitsLoss | 0     \n",
      "----------------------------------------------------\n",
      "2.3 K     Trainable params\n",
      "0         Non-trainable params\n",
      "2.3 K     Total params\n",
      "0.009     Total estimated model params size (MB)\n"
     ]
    },
    {
     "name": "stdout",
     "output_type": "stream",
     "text": [
      "                                                                           \r"
     ]
    },
    {
     "name": "stderr",
     "output_type": "stream",
     "text": [
      "/home/yianchen/.pyenv/versions/3.9.12/lib/python3.9/site-packages/lightning/pytorch/loops/fit_loop.py:280: PossibleUserWarning: The number of training batches (13) is smaller than the logging interval Trainer(log_every_n_steps=50). Set a lower value for log_every_n_steps if you want to see logs for the training epoch.\n",
      "  rank_zero_warn(\n"
     ]
    },
    {
     "name": "stdout",
     "output_type": "stream",
     "text": [
      "Epoch 9: 100%|██████████| 13/13 [00:00<00:00, 14.08it/s, v_num=del_]"
     ]
    },
    {
     "name": "stderr",
     "output_type": "stream",
     "text": [
      "INFO:pytorch_lightning.utilities.rank_zero:`Trainer.fit` stopped: `max_epochs=10` reached.\n"
     ]
    },
    {
     "name": "stdout",
     "output_type": "stream",
     "text": [
      "Epoch 9: 100%|██████████| 13/13 [00:00<00:00, 14.00it/s, v_num=del_]\n"
     ]
    },
    {
     "name": "stderr",
     "output_type": "stream",
     "text": [
      "INFO: LOCAL_RANK: 0 - CUDA_VISIBLE_DEVICES: [0]\n",
      "INFO:lightning.pytorch.accelerators.cuda:LOCAL_RANK: 0 - CUDA_VISIBLE_DEVICES: [0]\n"
     ]
    },
    {
     "name": "stdout",
     "output_type": "stream",
     "text": [
      "Testing DataLoader 0: 100%|██████████| 13/13 [00:00<00:00, 202.73it/s]\n"
     ]
    },
    {
     "data": {
      "text/html": [
       "<pre style=\"white-space:pre;overflow-x:auto;line-height:normal;font-family:Menlo,'DejaVu Sans Mono',consolas,'Courier New',monospace\">┏━━━━━━━━━━━━━━━━━━━━━━━━━━━┳━━━━━━━━━━━━━━━━━━━━━━━━━━━┓\n",
       "┃<span style=\"font-weight: bold\">        Test metric        </span>┃<span style=\"font-weight: bold\">       DataLoader 0        </span>┃\n",
       "┡━━━━━━━━━━━━━━━━━━━━━━━━━━━╇━━━━━━━━━━━━━━━━━━━━━━━━━━━┩\n",
       "│<span style=\"color: #008080; text-decoration-color: #008080\">         test_acc          </span>│<span style=\"color: #800080; text-decoration-color: #800080\">    0.6291096806526184     </span>│\n",
       "└───────────────────────────┴───────────────────────────┘\n",
       "</pre>\n"
      ],
      "text/plain": [
       "┏━━━━━━━━━━━━━━━━━━━━━━━━━━━┳━━━━━━━━━━━━━━━━━━━━━━━━━━━┓\n",
       "┃\u001b[1m \u001b[0m\u001b[1m       Test metric       \u001b[0m\u001b[1m \u001b[0m┃\u001b[1m \u001b[0m\u001b[1m      DataLoader 0       \u001b[0m\u001b[1m \u001b[0m┃\n",
       "┡━━━━━━━━━━━━━━━━━━━━━━━━━━━╇━━━━━━━━━━━━━━━━━━━━━━━━━━━┩\n",
       "│\u001b[36m \u001b[0m\u001b[36m        test_acc         \u001b[0m\u001b[36m \u001b[0m│\u001b[35m \u001b[0m\u001b[35m   0.6291096806526184    \u001b[0m\u001b[35m \u001b[0m│\n",
       "└───────────────────────────┴───────────────────────────┘\n"
      ]
     },
     "metadata": {},
     "output_type": "display_data"
    },
    {
     "data": {
      "text/html": [
       "Waiting for W&B process to finish... <strong style=\"color:green\">(success).</strong>"
      ],
      "text/plain": [
       "<IPython.core.display.HTML object>"
      ]
     },
     "metadata": {},
     "output_type": "display_data"
    },
    {
     "data": {
      "text/html": [
       "<style>\n",
       "    table.wandb td:nth-child(1) { padding: 0 10px; text-align: left ; width: auto;} td:nth-child(2) {text-align: left ; width: 100%}\n",
       "    .wandb-row { display: flex; flex-direction: row; flex-wrap: wrap; justify-content: flex-start; width: 100% }\n",
       "    .wandb-col { display: flex; flex-direction: column; flex-basis: 100%; flex: 1; padding: 10px; }\n",
       "    </style>\n",
       "<div class=\"wandb-row\"><div class=\"wandb-col\"><h3>Run history:</h3><br/><table class=\"wandb\"><tr><td>epoch</td><td>▁▁▂▂▂▂▃▃▃▄▄▅▅▅▅▆▆▆▇▇▇▇█</td></tr><tr><td>test_acc</td><td>▁</td></tr><tr><td>train_acc</td><td>▄▁▁▁▄▁▁▇▄█</td></tr><tr><td>train_acc_epoch</td><td>▃▂▁▄▄▅▄▆▇█</td></tr><tr><td>train_acc_step</td><td>▁█</td></tr><tr><td>train_loss</td><td>█▅▂▂▁▁▁▁▁▁</td></tr><tr><td>train_loss_epoch</td><td>█▃▂▁▁▁▁▁▁▁</td></tr><tr><td>train_loss_step</td><td>█▁</td></tr><tr><td>trainer/global_step</td><td>▁▁▂▂▃▃▃▃▃▄▄▅▅▆▆▆▆▆▇▇███</td></tr></table><br/></div><div class=\"wandb-col\"><h3>Run summary:</h3><br/><table class=\"wandb\"><tr><td>epoch</td><td>10</td></tr><tr><td>test_acc</td><td>0.62911</td></tr><tr><td>train_acc</td><td>0.67743</td></tr><tr><td>train_acc_epoch</td><td>0.62894</td></tr><tr><td>train_acc_step</td><td>0.8125</td></tr><tr><td>train_loss</td><td>37.93479</td></tr><tr><td>train_loss_epoch</td><td>44.50123</td></tr><tr><td>train_loss_step</td><td>18.68076</td></tr><tr><td>trainer/global_step</td><td>130</td></tr></table><br/></div></div>"
      ],
      "text/plain": [
       "<IPython.core.display.HTML object>"
      ]
     },
     "metadata": {},
     "output_type": "display_data"
    },
    {
     "data": {
      "text/html": [
       " View run <strong style=\"color:#cdcd00\">_GraphConvModel_</strong> at: <a href='https://wandb.ai/ntuyianchen/g_4vec_2pcqnn/runs/_GraphConvModel_' target=\"_blank\">https://wandb.ai/ntuyianchen/g_4vec_2pcqnn/runs/_GraphConvModel_</a><br/>Synced 3 W&B file(s), 1 media file(s), 0 artifact file(s) and 0 other file(s)"
      ],
      "text/plain": [
       "<IPython.core.display.HTML object>"
      ]
     },
     "metadata": {},
     "output_type": "display_data"
    },
    {
     "data": {
      "text/html": [
       "Find logs at: <code>./result/wandb/run-20230328_173224-_GraphConvModel_/logs</code>"
      ],
      "text/plain": [
       "<IPython.core.display.HTML object>"
      ]
     },
     "metadata": {},
     "output_type": "display_data"
    }
   ],
   "source": [
    "train(GraphConvModel(**cf_graph_conv), data_module=data_module)"
   ]
  }
 ],
 "metadata": {
  "kernelspec": {
   "display_name": "Python 3",
   "language": "python",
   "name": "python3"
  },
  "language_info": {
   "codemirror_mode": {
    "name": "ipython",
    "version": 3
   },
   "file_extension": ".py",
   "mimetype": "text/x-python",
   "name": "python",
   "nbconvert_exporter": "python",
   "pygments_lexer": "ipython3",
   "version": "3.9.12"
  },
  "orig_nbformat": 4,
  "vscode": {
   "interpreter": {
    "hash": "abdd0d95ca50f233d1202cce1ba28eab5ada50f7ec17823ef40ef9b79347f6f5"
   }
  }
 },
 "nbformat": 4,
 "nbformat_minor": 2
}
