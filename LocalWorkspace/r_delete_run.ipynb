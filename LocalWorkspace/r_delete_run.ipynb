{
 "cells": [
  {
   "cell_type": "code",
   "execution_count": 1,
   "metadata": {},
   "outputs": [
    {
     "name": "stdout",
     "output_type": "stream",
     "text": [
      "Classical2PCGNN__go6_gh48_gl2_mh48_ml2 | VzToZh_VzToQCD_cut(800, 1000)_bin10-100_R0.1 | 20230803_204259_0\n",
      "Classical2PCGNN__go6_gh48_gl2_mh48_ml1 | VzToZh_VzToQCD_cut(800, 1000)_bin10-100_R0.1 | 20230803_204259_0\n",
      "Classical2PCGNN__go6_gh48_gl2_mh12_ml2 | VzToZh_VzToQCD_cut(800, 1000)_bin10-100_R0.1 | 20230803_204259_0\n",
      "Classical2PCGNN__go6_gh48_gl2_mh12_ml1 | VzToZh_VzToQCD_cut(800, 1000)_bin10-100_R0.1 | 20230803_204259_0\n",
      "Classical2PCGNN__go6_gh48_gl2_mh0_ml0 | VzToZh_VzToQCD_cut(800, 1000)_bin10-100_R0.1 | 20230803_204259_0\n",
      "Classical2PCGNN__go6_gh48_gl1_mh48_ml2 | VzToZh_VzToQCD_cut(800, 1000)_bin10-100_R0.1 | 20230803_204259_0\n",
      "Classical2PCGNN__go6_gh48_gl1_mh48_ml1 | VzToZh_VzToQCD_cut(800, 1000)_bin10-100_R0.1 | 20230803_204259_0\n",
      "Classical2PCGNN__go6_gh48_gl1_mh12_ml2 | VzToZh_VzToQCD_cut(800, 1000)_bin10-100_R0.1 | 20230803_204259_0\n",
      "Classical2PCGNN__go6_gh48_gl1_mh12_ml1 | VzToZh_VzToQCD_cut(800, 1000)_bin10-100_R0.1 | 20230803_204259_0\n",
      "Classical2PCGNN__go6_gh48_gl1_mh0_ml0 | VzToZh_VzToQCD_cut(800, 1000)_bin10-100_R0.1 | 20230803_204259_0\n",
      "Classical2PCGNN__go6_gh12_gl2_mh48_ml2 | VzToZh_VzToQCD_cut(800, 1000)_bin10-100_R0.1 | 20230803_204259_0\n",
      "Classical2PCGNN__go6_gh12_gl2_mh48_ml1 | VzToZh_VzToQCD_cut(800, 1000)_bin10-100_R0.1 | 20230803_204259_0\n",
      "Classical2PCGNN__go6_gh12_gl2_mh12_ml2 | VzToZh_VzToQCD_cut(800, 1000)_bin10-100_R0.1 | 20230803_204259_0\n",
      "Classical2PCGNN__go6_gh12_gl2_mh12_ml1 | VzToZh_VzToQCD_cut(800, 1000)_bin10-100_R0.1 | 20230803_204259_0\n",
      "Classical2PCGNN__go6_gh12_gl2_mh0_ml0 | VzToZh_VzToQCD_cut(800, 1000)_bin10-100_R0.1 | 20230803_204259_0\n",
      "Classical2PCGNN__go6_gh12_gl1_mh48_ml2 | VzToZh_VzToQCD_cut(800, 1000)_bin10-100_R0.1 | 20230803_204259_0\n",
      "Classical2PCGNN__go6_gh12_gl1_mh48_ml1 | VzToZh_VzToQCD_cut(800, 1000)_bin10-100_R0.1 | 20230803_204259_0\n",
      "Classical2PCGNN__go6_gh12_gl1_mh12_ml2 | VzToZh_VzToQCD_cut(800, 1000)_bin10-100_R0.1 | 20230803_204259_0\n",
      "Classical2PCGNN__go6_gh12_gl1_mh12_ml1 | VzToZh_VzToQCD_cut(800, 1000)_bin10-100_R0.1 | 20230803_204259_0\n",
      "Classical2PCGNN__go6_gh12_gl1_mh0_ml0 | VzToZh_VzToQCD_cut(800, 1000)_bin10-100_R0.1 | 20230803_204259_0\n",
      "Classical2PCGNN__go6_gh0_gl0_mh48_ml2 | VzToZh_VzToQCD_cut(800, 1000)_bin10-100_R0.1 | 20230803_204259_0\n",
      "Classical2PCGNN__go6_gh0_gl0_mh48_ml1 | VzToZh_VzToQCD_cut(800, 1000)_bin10-100_R0.1 | 20230803_204259_0\n",
      "Classical2PCGNN__go6_gh0_gl0_mh12_ml2 | VzToZh_VzToQCD_cut(800, 1000)_bin10-100_R0.1 | 20230803_204259_0\n",
      "Classical2PCGNN__go6_gh0_gl0_mh12_ml1 | VzToZh_VzToQCD_cut(800, 1000)_bin10-100_R0.1 | 20230803_204259_0\n",
      "Classical2PCGNN__go6_gh0_gl0_mh0_ml0 | VzToZh_VzToQCD_cut(800, 1000)_bin10-100_R0.1 | 20230803_204259_0\n"
     ]
    }
   ],
   "source": [
    "import wandb\n",
    "\n",
    "api     = wandb.Api()\n",
    "date    = \"20230803\"\n",
    "suffix  = \"\"\n",
    "project = \"g_vz_eflow_2pcgnn\"\n",
    "\n",
    "for run in api.runs(f\"ntuyianchen/{project}\"):\n",
    "    if date in run.id and suffix in run.id:\n",
    "        print(run.id)\n",
    "        # run.delete()"
   ]
  }
 ],
 "metadata": {
  "kernelspec": {
   "display_name": "Python 3",
   "language": "python",
   "name": "python3"
  },
  "language_info": {
   "codemirror_mode": {
    "name": "ipython",
    "version": 3
   },
   "file_extension": ".py",
   "mimetype": "text/x-python",
   "name": "python",
   "nbconvert_exporter": "python",
   "pygments_lexer": "ipython3",
   "version": "3.9.12"
  },
  "orig_nbformat": 4
 },
 "nbformat": 4,
 "nbformat_minor": 2
}
