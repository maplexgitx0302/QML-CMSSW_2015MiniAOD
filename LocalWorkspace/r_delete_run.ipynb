{
 "cells": [
  {
   "cell_type": "code",
   "execution_count": 2,
   "metadata": {},
   "outputs": [
    {
     "name": "stdout",
     "output_type": "stream",
     "text": [
      "ClassicalGeoGNN_gl2_spherical | tetrahedron_cube_1 | rnd_0 | 20230605_184437\n",
      "ClassicalGeoGNN_gl2_cartesian | tetrahedron_cube_1 | rnd_0 | 20230605_184437\n",
      "ClassicalGeoGNN_gl2_spherical | tetrahedron_cube_3 | rnd_0 | 20230605_184142\n",
      "ClassicalGeoGNN_gl2_cartesian | tetrahedron_cube_3 | rnd_0 | 20230605_184142\n"
     ]
    }
   ],
   "source": [
    "import wandb\n",
    "\n",
    "api     = wandb.Api()\n",
    "date    = \"20230605\"\n",
    "suffix  = \"\"\n",
    "project = \"g_polyhedron_geognn\"\n",
    "\n",
    "for run in api.runs(f\"ntuyianchen/{project}\"):\n",
    "    if date in run.id and suffix in run.id:\n",
    "        print(run.id)\n",
    "        # run.delete()"
   ]
  }
 ],
 "metadata": {
  "kernelspec": {
   "display_name": "Python 3",
   "language": "python",
   "name": "python3"
  },
  "language_info": {
   "codemirror_mode": {
    "name": "ipython",
    "version": 3
   },
   "file_extension": ".py",
   "mimetype": "text/x-python",
   "name": "python",
   "nbconvert_exporter": "python",
   "pygments_lexer": "ipython3",
   "version": "3.9.12"
  },
  "orig_nbformat": 4
 },
 "nbformat": 4,
 "nbformat_minor": 2
}
