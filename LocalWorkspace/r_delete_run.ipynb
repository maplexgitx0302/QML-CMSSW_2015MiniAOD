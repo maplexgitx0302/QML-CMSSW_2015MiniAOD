{
 "cells": [
  {
   "cell_type": "code",
   "execution_count": 3,
   "metadata": {},
   "outputs": [
    {
     "name": "stdout",
     "output_type": "stream",
     "text": [
      "Quantum2PCQNNForward_gl1_ml2_pep_norm | R0.75_B10_D100 | rnd_2 | \n",
      "Classical2PCNNForward_gl1_ml2_pep_norm | R0.75_B10_D100 | rnd_2 | \n",
      "Classical2PCNNForward_gl1_ml2_pep | R0.75_B10_D100 | rnd_2 | \n",
      "Quantum2PCQNNForward_gl1_ml2_pep_norm | R0.75_B10_D100 | rnd_1 | \n",
      "Classical2PCNNForward_gl1_ml2_pep_norm | R0.75_B10_D100 | rnd_1 | \n",
      "Classical2PCNNForward_gl1_ml2_pep | R0.75_B10_D100 | rnd_1 | \n",
      "Quantum2PCQNNForward_gl1_ml2_pep_norm | R0.75_B10_D100 | rnd_0 | \n",
      "Classical2PCNNForward_gl1_ml2_pep_norm | R0.75_B10_D100 | rnd_0 | \n",
      "Classical2PCNNForward_gl1_ml2_pep | R0.75_B10_D100 | rnd_0 | \n",
      "Quantum2PCQNNForward_gl1_ml4_pep_norm | R0.75_B10_D50 | rnd_4 | \n",
      "Classical2PCNNForward_gl1_ml4_pep_norm | R0.75_B10_D50 | rnd_4 | \n",
      "Classical2PCNNForward_gl1_ml4_pep | R0.75_B10_D50 | rnd_4 | \n",
      "Quantum2PCQNNForward_gl1_ml4_pep_norm | R0.75_B10_D50 | rnd_3 | \n",
      "Classical2PCNNForward_gl1_ml4_pep_norm | R0.75_B10_D50 | rnd_3 | \n",
      "Classical2PCNNForward_gl1_ml4_pep | R0.75_B10_D50 | rnd_3 | \n",
      "Quantum2PCQNNForward_gl1_ml4_pep_norm | R0.75_B10_D50 | rnd_2 | \n",
      "Classical2PCNNForward_gl1_ml4_pep_norm | R0.75_B10_D50 | rnd_2 | \n",
      "Classical2PCNNForward_gl1_ml4_pep | R0.75_B10_D50 | rnd_2 | \n",
      "Quantum2PCQNNForward_gl1_ml4_pep_norm | R0.75_B10_D50 | rnd_1 | \n",
      "Classical2PCNNForward_gl1_ml4_pep_norm | R0.75_B10_D50 | rnd_1 | \n",
      "Classical2PCNNForward_gl1_ml4_pep | R0.75_B10_D50 | rnd_1 | \n",
      "Quantum2PCQNNForward_gl1_ml4_pep_norm | R0.75_B10_D50 | rnd_0 | \n",
      "Classical2PCNNForward_gl1_ml4_pep_norm | R0.75_B10_D50 | rnd_0 | \n",
      "Classical2PCNNForward_gl1_ml4_pep | R0.75_B10_D50 | rnd_0 | \n",
      "Quantum2PCQNNForward_gl1_ml2_pep_norm | R0.75_B10_D50 | rnd_4 | \n",
      "Classical2PCNNForward_gl1_ml2_pep_norm | R0.75_B10_D50 | rnd_4 | \n",
      "Classical2PCNNForward_gl1_ml2_pep | R0.75_B10_D50 | rnd_4 | \n",
      "Quantum2PCQNNForward_gl1_ml2_pep_norm | R0.75_B10_D50 | rnd_3 | \n",
      "Classical2PCNNForward_gl1_ml2_pep_norm | R0.75_B10_D50 | rnd_3 | \n",
      "Classical2PCNNForward_gl1_ml2_pep | R0.75_B10_D50 | rnd_3 | \n",
      "Quantum2PCQNNForward_gl1_ml2_pep_norm | R0.75_B10_D50 | rnd_2 | \n",
      "Classical2PCNNForward_gl1_ml2_pep_norm | R0.75_B10_D50 | rnd_2 | \n"
     ]
    },
    {
     "name": "stderr",
     "output_type": "stream",
     "text": [
      "\u001b[34m\u001b[1mwandb\u001b[0m: \u001b[33mWARNING\u001b[0m A graphql request initiated by the public wandb API timed out (timeout=9 sec). Create a new API with an integer timeout larger than 9, e.g., `api = wandb.Api(timeout=19)` to increase the graphql timeout.\n"
     ]
    },
    {
     "name": "stdout",
     "output_type": "stream",
     "text": [
      "Classical2PCNNForward_gl1_ml2_pep | R0.75_B10_D50 | rnd_2 | \n",
      "Quantum2PCQNNForward_gl1_ml2_pep_norm | R0.75_B10_D50 | rnd_1 | \n",
      "Classical2PCNNForward_gl1_ml2_pep_norm | R0.75_B10_D50 | rnd_1 | \n",
      "Classical2PCNNForward_gl1_ml2_pep | R0.75_B10_D50 | rnd_1 | \n",
      "Quantum2PCQNNForward_gl1_ml2_pep_norm | R0.75_B10_D50 | rnd_0 | \n",
      "Classical2PCNNForward_gl1_ml2_pep_norm | R0.75_B10_D50 | rnd_0 | \n",
      "Classical2PCNNForward_gl1_ml2_pep | R0.75_B10_D50 | rnd_0 | \n"
     ]
    }
   ],
   "source": [
    "import wandb\n",
    "\n",
    "api     = wandb.Api()\n",
    "date    = \"20230425\"\n",
    "project = \"g_4vec_2pcqnn\"\n",
    "suffix  = \"pep\"\n",
    "\n",
    "for run in api.runs(f\"ntuyianchen/{project}\"):\n",
    "    if suffix in run.id:\n",
    "        if date not in run.id:\n",
    "            print(run.id)\n",
    "            run.delete()"
   ]
  }
 ],
 "metadata": {
  "kernelspec": {
   "display_name": "Python 3",
   "language": "python",
   "name": "python3"
  },
  "language_info": {
   "codemirror_mode": {
    "name": "ipython",
    "version": 3
   },
   "file_extension": ".py",
   "mimetype": "text/x-python",
   "name": "python",
   "nbconvert_exporter": "python",
   "pygments_lexer": "ipython3",
   "version": "3.9.12"
  },
  "orig_nbformat": 4
 },
 "nbformat": 4,
 "nbformat_minor": 2
}
