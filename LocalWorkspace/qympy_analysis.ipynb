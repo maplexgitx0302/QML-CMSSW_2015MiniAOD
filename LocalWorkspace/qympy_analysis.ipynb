{
 "cells": [
  {
   "cell_type": "code",
   "execution_count": 1,
   "metadata": {},
   "outputs": [],
   "source": [
    "import sympy as sp\n",
    "import qympy as qp\n",
    "from qympy.quantum_circuit.sp_circuit import Circuit\n",
    "from qympy.machine_learning.quantum import AngleEncoding, SingleRot"
   ]
  },
  {
   "cell_type": "code",
   "execution_count": 2,
   "metadata": {},
   "outputs": [
    {
     "data": {
      "text/latex": [
       "$\\displaystyle \\left[\\begin{matrix}x_{1} x_{2} x_{3}\\\\x_{1} x_{2} \\sqrt{1 - x_{3}^{2}}\\\\x_{1} x_{3} \\sqrt{1 - x_{2}^{2}}\\\\x_{1} \\sqrt{1 - x_{2}^{2}} \\sqrt{1 - x_{3}^{2}}\\\\x_{2} x_{3} \\sqrt{1 - x_{1}^{2}}\\\\x_{2} \\sqrt{1 - x_{1}^{2}} \\sqrt{1 - x_{3}^{2}}\\\\x_{3} \\sqrt{1 - x_{1}^{2}} \\sqrt{1 - x_{2}^{2}}\\\\\\sqrt{1 - x_{1}^{2}} \\sqrt{1 - x_{2}^{2}} \\sqrt{1 - x_{3}^{2}}\\end{matrix}\\right]$"
      ],
      "text/plain": [
       "Matrix([\n",
       "[                                       x1*x2*x3],\n",
       "[                          x1*x2*sqrt(1 - x3**2)],\n",
       "[                          x1*x3*sqrt(1 - x2**2)],\n",
       "[             x1*sqrt(1 - x2**2)*sqrt(1 - x3**2)],\n",
       "[                          x2*x3*sqrt(1 - x1**2)],\n",
       "[             x2*sqrt(1 - x1**2)*sqrt(1 - x3**2)],\n",
       "[             x3*sqrt(1 - x1**2)*sqrt(1 - x2**2)],\n",
       "[sqrt(1 - x1**2)*sqrt(1 - x2**2)*sqrt(1 - x3**2)]])"
      ]
     },
     "execution_count": 2,
     "metadata": {},
     "output_type": "execute_result"
    }
   ],
   "source": [
    "eta, phi = sp.symbols(\"eta phi\")\n",
    "x = sp.Matrix([2*sp.acos(eta), 2*sp.acos(phi)])\n",
    "\n",
    "x1, x2, x3 = sp.symbols(\"x1:4\", real=True)\n",
    "x = sp.Matrix([2*sp.acos(x1), 2*sp.acos(x2), 2*sp.acos(x3)])\n",
    "\n",
    "enc = AngleEncoding(num_qubits=len(x), rot_gate=\"ry\")\n",
    "vqc = SingleRot(num_qubits=len(x), num_layers=1, prefix=\"theta\")\n",
    "circuit = enc\n",
    "\n",
    "sp.nsimplify(circuit(x).final_state)"
   ]
  },
  {
   "cell_type": "code",
   "execution_count": 3,
   "metadata": {},
   "outputs": [
    {
     "data": {
      "text/latex": [
       "$\\displaystyle \\left[\\begin{matrix}x_{3} \\left(\\frac{\\sqrt{2} x_{2} \\left(\\frac{x_{1}}{2} - \\frac{i \\sqrt{1 - x_{1}^{2}}}{2}\\right)}{2} - \\frac{\\sqrt{2} i \\sqrt{1 - x_{2}^{2}} \\left(\\frac{x_{1}}{2} + \\frac{i \\sqrt{1 - x_{1}^{2}}}{2}\\right)}{2}\\right) + i \\sqrt{1 - x_{3}^{2}} \\left(\\frac{\\sqrt{2} x_{2} \\left(\\frac{x_{1}}{2} + \\frac{i \\sqrt{1 - x_{1}^{2}}}{2}\\right)}{2} + \\frac{\\sqrt{2} i \\sqrt{1 - x_{2}^{2}} \\left(\\frac{x_{1}}{2} - \\frac{i \\sqrt{1 - x_{1}^{2}}}{2}\\right)}{2}\\right)\\\\x_{3} \\left(\\frac{\\sqrt{2} x_{2} \\left(\\frac{x_{1}}{2} - \\frac{i \\sqrt{1 - x_{1}^{2}}}{2}\\right)}{2} + \\frac{\\sqrt{2} i \\sqrt{1 - x_{2}^{2}} \\left(\\frac{x_{1}}{2} + \\frac{i \\sqrt{1 - x_{1}^{2}}}{2}\\right)}{2}\\right) - i \\sqrt{1 - x_{3}^{2}} \\left(\\frac{\\sqrt{2} x_{2} \\left(\\frac{x_{1}}{2} + \\frac{i \\sqrt{1 - x_{1}^{2}}}{2}\\right)}{2} - \\frac{\\sqrt{2} i \\sqrt{1 - x_{2}^{2}} \\left(\\frac{x_{1}}{2} - \\frac{i \\sqrt{1 - x_{1}^{2}}}{2}\\right)}{2}\\right)\\\\x_{3} \\left(\\frac{\\sqrt{2} x_{2} \\left(\\frac{x_{1}}{2} + \\frac{i \\sqrt{1 - x_{1}^{2}}}{2}\\right)}{2} + \\frac{\\sqrt{2} i \\sqrt{1 - x_{2}^{2}} \\left(\\frac{x_{1}}{2} - \\frac{i \\sqrt{1 - x_{1}^{2}}}{2}\\right)}{2}\\right) + i \\sqrt{1 - x_{3}^{2}} \\left(\\frac{\\sqrt{2} x_{2} \\left(\\frac{x_{1}}{2} - \\frac{i \\sqrt{1 - x_{1}^{2}}}{2}\\right)}{2} - \\frac{\\sqrt{2} i \\sqrt{1 - x_{2}^{2}} \\left(\\frac{x_{1}}{2} + \\frac{i \\sqrt{1 - x_{1}^{2}}}{2}\\right)}{2}\\right)\\\\x_{3} \\left(\\frac{\\sqrt{2} x_{2} \\left(\\frac{x_{1}}{2} + \\frac{i \\sqrt{1 - x_{1}^{2}}}{2}\\right)}{2} - \\frac{\\sqrt{2} i \\sqrt{1 - x_{2}^{2}} \\left(\\frac{x_{1}}{2} - \\frac{i \\sqrt{1 - x_{1}^{2}}}{2}\\right)}{2}\\right) - i \\sqrt{1 - x_{3}^{2}} \\left(\\frac{\\sqrt{2} x_{2} \\left(\\frac{x_{1}}{2} - \\frac{i \\sqrt{1 - x_{1}^{2}}}{2}\\right)}{2} + \\frac{\\sqrt{2} i \\sqrt{1 - x_{2}^{2}} \\left(\\frac{x_{1}}{2} + \\frac{i \\sqrt{1 - x_{1}^{2}}}{2}\\right)}{2}\\right)\\\\x_{3} \\left(\\frac{\\sqrt{2} x_{2} \\left(\\frac{x_{1}}{2} + \\frac{i \\sqrt{1 - x_{1}^{2}}}{2}\\right)}{2} - \\frac{\\sqrt{2} i \\sqrt{1 - x_{2}^{2}} \\left(\\frac{x_{1}}{2} - \\frac{i \\sqrt{1 - x_{1}^{2}}}{2}\\right)}{2}\\right) - i \\sqrt{1 - x_{3}^{2}} \\left(\\frac{\\sqrt{2} x_{2} \\left(\\frac{x_{1}}{2} - \\frac{i \\sqrt{1 - x_{1}^{2}}}{2}\\right)}{2} + \\frac{\\sqrt{2} i \\sqrt{1 - x_{2}^{2}} \\left(\\frac{x_{1}}{2} + \\frac{i \\sqrt{1 - x_{1}^{2}}}{2}\\right)}{2}\\right)\\\\x_{3} \\left(\\frac{\\sqrt{2} x_{2} \\left(\\frac{x_{1}}{2} + \\frac{i \\sqrt{1 - x_{1}^{2}}}{2}\\right)}{2} + \\frac{\\sqrt{2} i \\sqrt{1 - x_{2}^{2}} \\left(\\frac{x_{1}}{2} - \\frac{i \\sqrt{1 - x_{1}^{2}}}{2}\\right)}{2}\\right) + i \\sqrt{1 - x_{3}^{2}} \\left(\\frac{\\sqrt{2} x_{2} \\left(\\frac{x_{1}}{2} - \\frac{i \\sqrt{1 - x_{1}^{2}}}{2}\\right)}{2} - \\frac{\\sqrt{2} i \\sqrt{1 - x_{2}^{2}} \\left(\\frac{x_{1}}{2} + \\frac{i \\sqrt{1 - x_{1}^{2}}}{2}\\right)}{2}\\right)\\\\x_{3} \\left(\\frac{\\sqrt{2} x_{2} \\left(\\frac{x_{1}}{2} - \\frac{i \\sqrt{1 - x_{1}^{2}}}{2}\\right)}{2} + \\frac{\\sqrt{2} i \\sqrt{1 - x_{2}^{2}} \\left(\\frac{x_{1}}{2} + \\frac{i \\sqrt{1 - x_{1}^{2}}}{2}\\right)}{2}\\right) - i \\sqrt{1 - x_{3}^{2}} \\left(\\frac{\\sqrt{2} x_{2} \\left(\\frac{x_{1}}{2} + \\frac{i \\sqrt{1 - x_{1}^{2}}}{2}\\right)}{2} - \\frac{\\sqrt{2} i \\sqrt{1 - x_{2}^{2}} \\left(\\frac{x_{1}}{2} - \\frac{i \\sqrt{1 - x_{1}^{2}}}{2}\\right)}{2}\\right)\\\\x_{3} \\left(\\frac{\\sqrt{2} x_{2} \\left(\\frac{x_{1}}{2} - \\frac{i \\sqrt{1 - x_{1}^{2}}}{2}\\right)}{2} - \\frac{\\sqrt{2} i \\sqrt{1 - x_{2}^{2}} \\left(\\frac{x_{1}}{2} + \\frac{i \\sqrt{1 - x_{1}^{2}}}{2}\\right)}{2}\\right) + i \\sqrt{1 - x_{3}^{2}} \\left(\\frac{\\sqrt{2} x_{2} \\left(\\frac{x_{1}}{2} + \\frac{i \\sqrt{1 - x_{1}^{2}}}{2}\\right)}{2} + \\frac{\\sqrt{2} i \\sqrt{1 - x_{2}^{2}} \\left(\\frac{x_{1}}{2} - \\frac{i \\sqrt{1 - x_{1}^{2}}}{2}\\right)}{2}\\right)\\end{matrix}\\right]$"
      ],
      "text/plain": [
       "Matrix([\n",
       "[x3*(sqrt(2)*x2*(x1/2 - I*sqrt(1 - x1**2)/2)/2 - sqrt(2)*I*sqrt(1 - x2**2)*(x1/2 + I*sqrt(1 - x1**2)/2)/2) + I*sqrt(1 - x3**2)*(sqrt(2)*x2*(x1/2 + I*sqrt(1 - x1**2)/2)/2 + sqrt(2)*I*sqrt(1 - x2**2)*(x1/2 - I*sqrt(1 - x1**2)/2)/2)],\n",
       "[x3*(sqrt(2)*x2*(x1/2 - I*sqrt(1 - x1**2)/2)/2 + sqrt(2)*I*sqrt(1 - x2**2)*(x1/2 + I*sqrt(1 - x1**2)/2)/2) - I*sqrt(1 - x3**2)*(sqrt(2)*x2*(x1/2 + I*sqrt(1 - x1**2)/2)/2 - sqrt(2)*I*sqrt(1 - x2**2)*(x1/2 - I*sqrt(1 - x1**2)/2)/2)],\n",
       "[x3*(sqrt(2)*x2*(x1/2 + I*sqrt(1 - x1**2)/2)/2 + sqrt(2)*I*sqrt(1 - x2**2)*(x1/2 - I*sqrt(1 - x1**2)/2)/2) + I*sqrt(1 - x3**2)*(sqrt(2)*x2*(x1/2 - I*sqrt(1 - x1**2)/2)/2 - sqrt(2)*I*sqrt(1 - x2**2)*(x1/2 + I*sqrt(1 - x1**2)/2)/2)],\n",
       "[x3*(sqrt(2)*x2*(x1/2 + I*sqrt(1 - x1**2)/2)/2 - sqrt(2)*I*sqrt(1 - x2**2)*(x1/2 - I*sqrt(1 - x1**2)/2)/2) - I*sqrt(1 - x3**2)*(sqrt(2)*x2*(x1/2 - I*sqrt(1 - x1**2)/2)/2 + sqrt(2)*I*sqrt(1 - x2**2)*(x1/2 + I*sqrt(1 - x1**2)/2)/2)],\n",
       "[x3*(sqrt(2)*x2*(x1/2 + I*sqrt(1 - x1**2)/2)/2 - sqrt(2)*I*sqrt(1 - x2**2)*(x1/2 - I*sqrt(1 - x1**2)/2)/2) - I*sqrt(1 - x3**2)*(sqrt(2)*x2*(x1/2 - I*sqrt(1 - x1**2)/2)/2 + sqrt(2)*I*sqrt(1 - x2**2)*(x1/2 + I*sqrt(1 - x1**2)/2)/2)],\n",
       "[x3*(sqrt(2)*x2*(x1/2 + I*sqrt(1 - x1**2)/2)/2 + sqrt(2)*I*sqrt(1 - x2**2)*(x1/2 - I*sqrt(1 - x1**2)/2)/2) + I*sqrt(1 - x3**2)*(sqrt(2)*x2*(x1/2 - I*sqrt(1 - x1**2)/2)/2 - sqrt(2)*I*sqrt(1 - x2**2)*(x1/2 + I*sqrt(1 - x1**2)/2)/2)],\n",
       "[x3*(sqrt(2)*x2*(x1/2 - I*sqrt(1 - x1**2)/2)/2 + sqrt(2)*I*sqrt(1 - x2**2)*(x1/2 + I*sqrt(1 - x1**2)/2)/2) - I*sqrt(1 - x3**2)*(sqrt(2)*x2*(x1/2 + I*sqrt(1 - x1**2)/2)/2 - sqrt(2)*I*sqrt(1 - x2**2)*(x1/2 - I*sqrt(1 - x1**2)/2)/2)],\n",
       "[x3*(sqrt(2)*x2*(x1/2 - I*sqrt(1 - x1**2)/2)/2 - sqrt(2)*I*sqrt(1 - x2**2)*(x1/2 + I*sqrt(1 - x1**2)/2)/2) + I*sqrt(1 - x3**2)*(sqrt(2)*x2*(x1/2 + I*sqrt(1 - x1**2)/2)/2 + sqrt(2)*I*sqrt(1 - x2**2)*(x1/2 - I*sqrt(1 - x1**2)/2)/2)]])"
      ]
     },
     "execution_count": 3,
     "metadata": {},
     "output_type": "execute_result"
    }
   ],
   "source": [
    "circuit = Circuit(3)\n",
    "x1, x2, x3 = sp.symbols(\"x1:4\", real=True)\n",
    "x = sp.Matrix([x1, x2, x3])\n",
    "y1, y2, y3 = sp.symbols(\"y1:4\", real=True)\n",
    "y = sp.Matrix([y1, y2, y3])\n",
    "\n",
    "for i in range(len(x)):\n",
    "    circuit.h(i)\n",
    "    circuit.ryy(2*sp.acos(x[i]), i, (i+1)%len(x))\n",
    "    # circuit.ry(2*sp.acos(x[i]), i)\n",
    "\n",
    "circuit.evolve()\n",
    "circuit.final_state"
   ]
  },
  {
   "cell_type": "code",
   "execution_count": 4,
   "metadata": {},
   "outputs": [
    {
     "data": {
      "text/latex": [
       "$\\displaystyle \\left[\\begin{matrix}- \\eta_{1} \\phi_{1} \\left(- pt_{1}^{2} r_{1}^{2} + 1\\right) + \\sqrt{1 - \\eta_{1}^{2}} \\sqrt{1 - \\phi_{1}^{2}} \\left(- pt_{1}^{2} r_{1}^{2} + 1\\right)\\\\\\eta_{1} \\sqrt{1 - \\phi_{1}^{2}} \\left(- pt_{1}^{2} r_{1}^{2} + 1\\right) + \\phi_{1} \\sqrt{1 - \\eta_{1}^{2}} \\left(- pt_{1}^{2} r_{1}^{2} + 1\\right)\\\\- \\eta_{1} \\phi_{1} pt_{1} r_{1} \\sqrt{- pt_{1}^{2} r_{1}^{2} + 1} + pt_{1} r_{1} \\sqrt{1 - \\eta_{1}^{2}} \\sqrt{1 - \\phi_{1}^{2}} \\sqrt{- pt_{1}^{2} r_{1}^{2} + 1}\\\\\\eta_{1} pt_{1} r_{1} \\sqrt{1 - \\phi_{1}^{2}} \\sqrt{- pt_{1}^{2} r_{1}^{2} + 1} + \\phi_{1} pt_{1} r_{1} \\sqrt{1 - \\eta_{1}^{2}} \\sqrt{- pt_{1}^{2} r_{1}^{2} + 1}\\\\- \\eta_{1} \\phi_{1} pt_{1} r_{1} \\sqrt{- pt_{1}^{2} r_{1}^{2} + 1} + pt_{1} r_{1} \\sqrt{1 - \\eta_{1}^{2}} \\sqrt{1 - \\phi_{1}^{2}} \\sqrt{- pt_{1}^{2} r_{1}^{2} + 1}\\\\\\eta_{1} pt_{1} r_{1} \\sqrt{1 - \\phi_{1}^{2}} \\sqrt{- pt_{1}^{2} r_{1}^{2} + 1} + \\phi_{1} pt_{1} r_{1} \\sqrt{1 - \\eta_{1}^{2}} \\sqrt{- pt_{1}^{2} r_{1}^{2} + 1}\\\\- \\eta_{1} \\phi_{1} pt_{1}^{2} r_{1}^{2} + pt_{1}^{2} r_{1}^{2} \\sqrt{1 - \\eta_{1}^{2}} \\sqrt{1 - \\phi_{1}^{2}}\\\\\\eta_{1} pt_{1}^{2} r_{1}^{2} \\sqrt{1 - \\phi_{1}^{2}} + \\phi_{1} pt_{1}^{2} r_{1}^{2} \\sqrt{1 - \\eta_{1}^{2}}\\end{matrix}\\right]$"
      ],
      "text/plain": [
       "Matrix([\n",
       "[                          -eta_1*phi_1*(-pt_1**2*r_1**2 + 1) + sqrt(1 - eta_1**2)*sqrt(1 - phi_1**2)*(-pt_1**2*r_1**2 + 1)],\n",
       "[                           eta_1*sqrt(1 - phi_1**2)*(-pt_1**2*r_1**2 + 1) + phi_1*sqrt(1 - eta_1**2)*(-pt_1**2*r_1**2 + 1)],\n",
       "[-eta_1*phi_1*pt_1*r_1*sqrt(-pt_1**2*r_1**2 + 1) + pt_1*r_1*sqrt(1 - eta_1**2)*sqrt(1 - phi_1**2)*sqrt(-pt_1**2*r_1**2 + 1)],\n",
       "[ eta_1*pt_1*r_1*sqrt(1 - phi_1**2)*sqrt(-pt_1**2*r_1**2 + 1) + phi_1*pt_1*r_1*sqrt(1 - eta_1**2)*sqrt(-pt_1**2*r_1**2 + 1)],\n",
       "[-eta_1*phi_1*pt_1*r_1*sqrt(-pt_1**2*r_1**2 + 1) + pt_1*r_1*sqrt(1 - eta_1**2)*sqrt(1 - phi_1**2)*sqrt(-pt_1**2*r_1**2 + 1)],\n",
       "[ eta_1*pt_1*r_1*sqrt(1 - phi_1**2)*sqrt(-pt_1**2*r_1**2 + 1) + phi_1*pt_1*r_1*sqrt(1 - eta_1**2)*sqrt(-pt_1**2*r_1**2 + 1)],\n",
       "[                                        -eta_1*phi_1*pt_1**2*r_1**2 + pt_1**2*r_1**2*sqrt(1 - eta_1**2)*sqrt(1 - phi_1**2)],\n",
       "[                                         eta_1*pt_1**2*r_1**2*sqrt(1 - phi_1**2) + phi_1*pt_1**2*r_1**2*sqrt(1 - eta_1**2)]])"
      ]
     },
     "execution_count": 4,
     "metadata": {},
     "output_type": "execute_result"
    }
   ],
   "source": [
    "pt1, eta1, phi1, r1 = sp.symbols(\"pt_1 eta_1 phi_1 r_1\", real=True)\n",
    "pt2, eta2, phi2, r2 = sp.symbols(\"pt_2 eta_2 phi_2 r_2\", real=True)\n",
    "\n",
    "circuit = Circuit(3)\n",
    "circuit.ry(2*sp.asin(pt1*r1), 0)\n",
    "circuit.ry(2*sp.asin(pt1*r1), 1)\n",
    "circuit.cry(2*sp.asin(eta1), 0, 2)\n",
    "circuit.cry(2*sp.asin(phi1), 1, 2)\n",
    "circuit.x(0)\n",
    "circuit.x(1)\n",
    "circuit.cry(2*sp.asin(eta1), 0, 2)\n",
    "circuit.cry(2*sp.asin(phi1), 1, 2)\n",
    "circuit.x(0)\n",
    "circuit.x(1)\n",
    "\n",
    "# circuit = Circuit(2)\n",
    "# circuit.ry(2*sp.asin(pt1), 0)\n",
    "# circuit.cry(2*sp.asin(eta1), 0, 1)\n",
    "# circuit.x(0)\n",
    "# circuit.cry(2*sp.asin(eta1), 0, 1)\n",
    "# circuit.x(0)\n",
    "\n",
    "# circuit.cry(2*sp.asin(eta1), 1, 0)\n",
    "# circuit.ry(2*sp.asin(pt2), 1)\n",
    "# circuit.cry(2*sp.acos(eta1), 0, 2)\n",
    "# circuit.cry(2*sp.acos(eta2), 1, 3)\n",
    "# circuit.crx(2*sp.acos(phi1), 0, 2)\n",
    "# circuit.crx(2*sp.acos(phi2), 1, 3)\n",
    "\n",
    "# circuit.ry(2*sp.Symbol(\"theta_1\", real=True), 2)\n",
    "# circuit.ry(2*sp.Symbol(\"theta_2\", real=True), 3)\n",
    "# circuit.cx(2,3)\n",
    "# circuit.ry(2*sp.Symbol(\"theta_3\", real=True), 2)\n",
    "# circuit.ry(2*sp.Symbol(\"theta_4\", real=True), 3)\n",
    "# circuit.cx(2,3)\n",
    "\n",
    "circuit.evolve()\n",
    "circuit.final_state\n",
    "# # circuit.measure(1, \"Z\")\n",
    "# circuit.draw(\"mpl\")"
   ]
  }
 ],
 "metadata": {
  "kernelspec": {
   "display_name": "Python 3.9.12 64-bit ('shims')",
   "language": "python",
   "name": "python3"
  },
  "language_info": {
   "codemirror_mode": {
    "name": "ipython",
    "version": 3
   },
   "file_extension": ".py",
   "mimetype": "text/x-python",
   "name": "python",
   "nbconvert_exporter": "python",
   "pygments_lexer": "ipython3",
   "version": "3.9.12"
  },
  "orig_nbformat": 4,
  "vscode": {
   "interpreter": {
    "hash": "6f02055337d253f388db8c747d2eda41151d1a914a22500b5c34c6d448cd4f3e"
   }
  }
 },
 "nbformat": 4,
 "nbformat_minor": 2
}
