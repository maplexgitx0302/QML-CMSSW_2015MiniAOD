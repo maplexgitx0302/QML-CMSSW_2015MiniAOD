{
 "cells": [
  {
   "cell_type": "code",
   "execution_count": 2,
   "metadata": {},
   "outputs": [],
   "source": [
    "import sympy as sp\n",
    "import qympy as qp\n",
    "from qympy.quantum_circuit.sp_circuit import Circuit\n",
    "from qympy.machine_learning.quantum import AngleEncoding, SingleRot"
   ]
  },
  {
   "attachments": {},
   "cell_type": "markdown",
   "metadata": {},
   "source": [
    "### Basic variational quantum circuit"
   ]
  },
  {
   "cell_type": "code",
   "execution_count": 3,
   "metadata": {},
   "outputs": [
    {
     "data": {
      "text/latex": [
       "$\\displaystyle \\left[\\begin{matrix}\\left(x_{1} e^{- \\frac{i \\theta^{0}_{0,0}}{2}} \\cos{\\left(\\frac{\\theta^{0}_{0,1}}{2} \\right)} - \\sqrt{1 - x_{1}^{2}} e^{\\frac{i \\theta^{0}_{0,0}}{2}} \\sin{\\left(\\frac{\\theta^{0}_{0,1}}{2} \\right)}\\right) \\left(x_{2} e^{- \\frac{i \\theta^{0}_{1,0}}{2}} \\cos{\\left(\\frac{\\theta^{0}_{1,1}}{2} \\right)} - \\sqrt{1 - x_{2}^{2}} e^{\\frac{i \\theta^{0}_{1,0}}{2}} \\sin{\\left(\\frac{\\theta^{0}_{1,1}}{2} \\right)}\\right) e^{- \\frac{i \\theta^{0}_{0,2}}{2}} e^{- \\frac{i \\theta^{0}_{1,2}}{2}}\\\\\\left(x_{1} e^{- \\frac{i \\theta^{0}_{0,0}}{2}} \\cos{\\left(\\frac{\\theta^{0}_{0,1}}{2} \\right)} - \\sqrt{1 - x_{1}^{2}} e^{\\frac{i \\theta^{0}_{0,0}}{2}} \\sin{\\left(\\frac{\\theta^{0}_{0,1}}{2} \\right)}\\right) \\left(x_{2} e^{- \\frac{i \\theta^{0}_{1,0}}{2}} \\sin{\\left(\\frac{\\theta^{0}_{1,1}}{2} \\right)} + \\sqrt{1 - x_{2}^{2}} e^{\\frac{i \\theta^{0}_{1,0}}{2}} \\cos{\\left(\\frac{\\theta^{0}_{1,1}}{2} \\right)}\\right) e^{- \\frac{i \\theta^{0}_{0,2}}{2}} e^{\\frac{i \\theta^{0}_{1,2}}{2}}\\\\\\left(x_{1} e^{- \\frac{i \\theta^{0}_{0,0}}{2}} \\sin{\\left(\\frac{\\theta^{0}_{0,1}}{2} \\right)} + \\sqrt{1 - x_{1}^{2}} e^{\\frac{i \\theta^{0}_{0,0}}{2}} \\cos{\\left(\\frac{\\theta^{0}_{0,1}}{2} \\right)}\\right) \\left(x_{2} e^{- \\frac{i \\theta^{0}_{1,0}}{2}} \\sin{\\left(\\frac{\\theta^{0}_{1,1}}{2} \\right)} + \\sqrt{1 - x_{2}^{2}} e^{\\frac{i \\theta^{0}_{1,0}}{2}} \\cos{\\left(\\frac{\\theta^{0}_{1,1}}{2} \\right)}\\right) e^{\\frac{i \\theta^{0}_{0,2}}{2}} e^{\\frac{i \\theta^{0}_{1,2}}{2}}\\\\\\left(x_{1} e^{- \\frac{i \\theta^{0}_{0,0}}{2}} \\sin{\\left(\\frac{\\theta^{0}_{0,1}}{2} \\right)} + \\sqrt{1 - x_{1}^{2}} e^{\\frac{i \\theta^{0}_{0,0}}{2}} \\cos{\\left(\\frac{\\theta^{0}_{0,1}}{2} \\right)}\\right) \\left(x_{2} e^{- \\frac{i \\theta^{0}_{1,0}}{2}} \\cos{\\left(\\frac{\\theta^{0}_{1,1}}{2} \\right)} - \\sqrt{1 - x_{2}^{2}} e^{\\frac{i \\theta^{0}_{1,0}}{2}} \\sin{\\left(\\frac{\\theta^{0}_{1,1}}{2} \\right)}\\right) e^{\\frac{i \\theta^{0}_{0,2}}{2}} e^{- \\frac{i \\theta^{0}_{1,2}}{2}}\\end{matrix}\\right]$"
      ],
      "text/plain": [
       "Matrix([\n",
       "[(x1*exp(-I*theta^0_0,0/2)*cos(theta^0_0,1/2) - sqrt(1 - x1**2)*exp(I*theta^0_0,0/2)*sin(theta^0_0,1/2))*(x2*exp(-I*theta^0_1,0/2)*cos(theta^0_1,1/2) - sqrt(1 - x2**2)*exp(I*theta^0_1,0/2)*sin(theta^0_1,1/2))*exp(-I*theta^0_0,2/2)*exp(-I*theta^0_1,2/2)],\n",
       "[ (x1*exp(-I*theta^0_0,0/2)*cos(theta^0_0,1/2) - sqrt(1 - x1**2)*exp(I*theta^0_0,0/2)*sin(theta^0_0,1/2))*(x2*exp(-I*theta^0_1,0/2)*sin(theta^0_1,1/2) + sqrt(1 - x2**2)*exp(I*theta^0_1,0/2)*cos(theta^0_1,1/2))*exp(-I*theta^0_0,2/2)*exp(I*theta^0_1,2/2)],\n",
       "[  (x1*exp(-I*theta^0_0,0/2)*sin(theta^0_0,1/2) + sqrt(1 - x1**2)*exp(I*theta^0_0,0/2)*cos(theta^0_0,1/2))*(x2*exp(-I*theta^0_1,0/2)*sin(theta^0_1,1/2) + sqrt(1 - x2**2)*exp(I*theta^0_1,0/2)*cos(theta^0_1,1/2))*exp(I*theta^0_0,2/2)*exp(I*theta^0_1,2/2)],\n",
       "[ (x1*exp(-I*theta^0_0,0/2)*sin(theta^0_0,1/2) + sqrt(1 - x1**2)*exp(I*theta^0_0,0/2)*cos(theta^0_0,1/2))*(x2*exp(-I*theta^0_1,0/2)*cos(theta^0_1,1/2) - sqrt(1 - x2**2)*exp(I*theta^0_1,0/2)*sin(theta^0_1,1/2))*exp(I*theta^0_0,2/2)*exp(-I*theta^0_1,2/2)]])"
      ]
     },
     "execution_count": 3,
     "metadata": {},
     "output_type": "execute_result"
    }
   ],
   "source": [
    "eta, phi = sp.symbols(\"eta phi\")\n",
    "x = sp.Matrix([2*sp.acos(eta), 2*sp.acos(phi)])\n",
    "\n",
    "x1, x2 = sp.symbols(\"x1:3\", real=True)\n",
    "x = sp.Matrix([2*sp.acos(x1), 2*sp.acos(x2)])\n",
    "\n",
    "enc = AngleEncoding(num_qubits=len(x), rot_gate=\"ry\")\n",
    "vqc = SingleRot(num_qubits=len(x), num_layers=1, prefix=\"theta\")\n",
    "circuit = enc + vqc\n",
    "\n",
    "sp.nsimplify(circuit(x).final_state)"
   ]
  },
  {
   "attachments": {},
   "cell_type": "markdown",
   "metadata": {},
   "source": [
    "### HybridArcKernelDaughterModel"
   ]
  },
  {
   "cell_type": "code",
   "execution_count": 5,
   "metadata": {},
   "outputs": [
    {
     "data": {
      "text/latex": [
       "$\\displaystyle \\left[\\begin{matrix}1 - pt^{2}\\\\0\\\\pt \\sqrt{1 - pt^{2}}\\\\0\\\\\\sqrt{1 - \\phi^{2}} \\left(- \\eta pt^{2} + pt \\sqrt{1 - \\eta^{2}} \\sqrt{1 - pt^{2}}\\right)\\\\\\phi \\left(- \\eta pt^{2} + pt \\sqrt{1 - \\eta^{2}} \\sqrt{1 - pt^{2}}\\right)\\\\\\sqrt{1 - \\phi^{2}} \\left(\\eta pt \\sqrt{1 - pt^{2}} + pt^{2} \\sqrt{1 - \\eta^{2}}\\right)\\\\\\phi \\left(\\eta pt \\sqrt{1 - pt^{2}} + pt^{2} \\sqrt{1 - \\eta^{2}}\\right)\\end{matrix}\\right]$"
      ],
      "text/plain": [
       "Matrix([\n",
       "[                                                          1 - pt**2],\n",
       "[                                                                  0],\n",
       "[                                                 pt*sqrt(1 - pt**2)],\n",
       "[                                                                  0],\n",
       "[sqrt(1 - phi**2)*(-eta*pt**2 + pt*sqrt(1 - eta**2)*sqrt(1 - pt**2))],\n",
       "[             phi*(-eta*pt**2 + pt*sqrt(1 - eta**2)*sqrt(1 - pt**2))],\n",
       "[ sqrt(1 - phi**2)*(eta*pt*sqrt(1 - pt**2) + pt**2*sqrt(1 - eta**2))],\n",
       "[              phi*(eta*pt*sqrt(1 - pt**2) + pt**2*sqrt(1 - eta**2))]])"
      ]
     },
     "execution_count": 5,
     "metadata": {},
     "output_type": "execute_result"
    }
   ],
   "source": [
    "pt, eta, phi, delta_r, r = sp.symbols(\"pt eta phi Delta_r r\", real=True)\n",
    "circuit = Circuit(3)\n",
    "\n",
    "circuit.ry(2*sp.asin(pt), 0)\n",
    "circuit.ry(2*sp.asin(pt), 1)\n",
    "circuit.cry(2*sp.asin(eta), 0, 1)\n",
    "circuit.cry(2*sp.asin(phi), 0, 2)\n",
    "\n",
    "circuit.evolve()\n",
    "circuit.final_state"
   ]
  },
  {
   "attachments": {},
   "cell_type": "markdown",
   "metadata": {},
   "source": [
    "### Undefined"
   ]
  },
  {
   "cell_type": "code",
   "execution_count": 6,
   "metadata": {},
   "outputs": [
    {
     "data": {
      "text/latex": [
       "$\\displaystyle \\left[\\begin{matrix}1 - pt^{2}\\\\0\\\\pt \\sqrt{1 - pt^{2}}\\\\0\\\\\\sqrt{1 - \\phi^{2}} \\left(- \\eta pt^{2} + pt \\sqrt{1 - \\eta^{2}} \\sqrt{1 - pt^{2}}\\right)\\\\\\phi \\left(- \\eta pt^{2} + pt \\sqrt{1 - \\eta^{2}} \\sqrt{1 - pt^{2}}\\right)\\\\\\sqrt{1 - \\phi^{2}} \\left(\\eta pt \\sqrt{1 - pt^{2}} + pt^{2} \\sqrt{1 - \\eta^{2}}\\right)\\\\\\phi \\left(\\eta pt \\sqrt{1 - pt^{2}} + pt^{2} \\sqrt{1 - \\eta^{2}}\\right)\\end{matrix}\\right]$"
      ],
      "text/plain": [
       "Matrix([\n",
       "[                                                          1 - pt**2],\n",
       "[                                                                  0],\n",
       "[                                                 pt*sqrt(1 - pt**2)],\n",
       "[                                                                  0],\n",
       "[sqrt(1 - phi**2)*(-eta*pt**2 + pt*sqrt(1 - eta**2)*sqrt(1 - pt**2))],\n",
       "[             phi*(-eta*pt**2 + pt*sqrt(1 - eta**2)*sqrt(1 - pt**2))],\n",
       "[ sqrt(1 - phi**2)*(eta*pt*sqrt(1 - pt**2) + pt**2*sqrt(1 - eta**2))],\n",
       "[              phi*(eta*pt*sqrt(1 - pt**2) + pt**2*sqrt(1 - eta**2))]])"
      ]
     },
     "execution_count": 6,
     "metadata": {},
     "output_type": "execute_result"
    }
   ],
   "source": [
    "pt, eta, phi, delta_r, r = sp.symbols(\"pt eta phi Delta_r r\", real=True)\n",
    "circuit = Circuit(3)\n",
    "\n",
    "circuit.ry(2*sp.asin(pt), 0)\n",
    "circuit.ry(2*sp.asin(pt), 1)\n",
    "circuit.cry(2*sp.asin(eta), 0, 1)\n",
    "circuit.cry(2*sp.asin(phi), 0, 2)\n",
    "\n",
    "circuit.evolve()\n",
    "circuit.final_state"
   ]
  }
 ],
 "metadata": {
  "kernelspec": {
   "display_name": "Python 3",
   "language": "python",
   "name": "python3"
  },
  "language_info": {
   "codemirror_mode": {
    "name": "ipython",
    "version": 3
   },
   "file_extension": ".py",
   "mimetype": "text/x-python",
   "name": "python",
   "nbconvert_exporter": "python",
   "pygments_lexer": "ipython3",
   "version": "3.9.12 (main, Dec 28 2022, 00:55:49) \n[GCC 9.4.0]"
  },
  "orig_nbformat": 4,
  "vscode": {
   "interpreter": {
    "hash": "abdd0d95ca50f233d1202cce1ba28eab5ada50f7ec17823ef40ef9b79347f6f5"
   }
  }
 },
 "nbformat": 4,
 "nbformat_minor": 2
}
