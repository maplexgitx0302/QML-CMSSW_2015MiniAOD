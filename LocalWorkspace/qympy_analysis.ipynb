{
 "cells": [
  {
   "cell_type": "code",
   "execution_count": 2,
   "metadata": {},
   "outputs": [],
   "source": [
    "import sympy as sp\n",
    "import qympy as qp\n",
    "from qympy.quantum_circuit.sp_circuit import Circuit\n",
    "from qympy.machine_learning.quantum import AngleEncoding, SingleRot"
   ]
  },
  {
   "attachments": {},
   "cell_type": "markdown",
   "metadata": {},
   "source": [
    "### Basic variational quantum circuit"
   ]
  },
  {
   "cell_type": "code",
   "execution_count": 3,
   "metadata": {},
   "outputs": [
    {
     "data": {
      "text/latex": [
       "$\\displaystyle \\left[\\begin{matrix}\\left(x_{1} e^{- \\frac{i \\theta^{0}_{0,0}}{2}} \\cos{\\left(\\frac{\\theta^{0}_{0,1}}{2} \\right)} - \\sqrt{1 - x_{1}^{2}} e^{\\frac{i \\theta^{0}_{0,0}}{2}} \\sin{\\left(\\frac{\\theta^{0}_{0,1}}{2} \\right)}\\right) \\left(x_{2} e^{- \\frac{i \\theta^{0}_{1,0}}{2}} \\cos{\\left(\\frac{\\theta^{0}_{1,1}}{2} \\right)} - \\sqrt{1 - x_{2}^{2}} e^{\\frac{i \\theta^{0}_{1,0}}{2}} \\sin{\\left(\\frac{\\theta^{0}_{1,1}}{2} \\right)}\\right) e^{- \\frac{i \\theta^{0}_{0,2}}{2}} e^{- \\frac{i \\theta^{0}_{1,2}}{2}}\\\\\\left(x_{1} e^{- \\frac{i \\theta^{0}_{0,0}}{2}} \\cos{\\left(\\frac{\\theta^{0}_{0,1}}{2} \\right)} - \\sqrt{1 - x_{1}^{2}} e^{\\frac{i \\theta^{0}_{0,0}}{2}} \\sin{\\left(\\frac{\\theta^{0}_{0,1}}{2} \\right)}\\right) \\left(x_{2} e^{- \\frac{i \\theta^{0}_{1,0}}{2}} \\sin{\\left(\\frac{\\theta^{0}_{1,1}}{2} \\right)} + \\sqrt{1 - x_{2}^{2}} e^{\\frac{i \\theta^{0}_{1,0}}{2}} \\cos{\\left(\\frac{\\theta^{0}_{1,1}}{2} \\right)}\\right) e^{- \\frac{i \\theta^{0}_{0,2}}{2}} e^{\\frac{i \\theta^{0}_{1,2}}{2}}\\\\\\left(x_{1} e^{- \\frac{i \\theta^{0}_{0,0}}{2}} \\sin{\\left(\\frac{\\theta^{0}_{0,1}}{2} \\right)} + \\sqrt{1 - x_{1}^{2}} e^{\\frac{i \\theta^{0}_{0,0}}{2}} \\cos{\\left(\\frac{\\theta^{0}_{0,1}}{2} \\right)}\\right) \\left(x_{2} e^{- \\frac{i \\theta^{0}_{1,0}}{2}} \\sin{\\left(\\frac{\\theta^{0}_{1,1}}{2} \\right)} + \\sqrt{1 - x_{2}^{2}} e^{\\frac{i \\theta^{0}_{1,0}}{2}} \\cos{\\left(\\frac{\\theta^{0}_{1,1}}{2} \\right)}\\right) e^{\\frac{i \\theta^{0}_{0,2}}{2}} e^{\\frac{i \\theta^{0}_{1,2}}{2}}\\\\\\left(x_{1} e^{- \\frac{i \\theta^{0}_{0,0}}{2}} \\sin{\\left(\\frac{\\theta^{0}_{0,1}}{2} \\right)} + \\sqrt{1 - x_{1}^{2}} e^{\\frac{i \\theta^{0}_{0,0}}{2}} \\cos{\\left(\\frac{\\theta^{0}_{0,1}}{2} \\right)}\\right) \\left(x_{2} e^{- \\frac{i \\theta^{0}_{1,0}}{2}} \\cos{\\left(\\frac{\\theta^{0}_{1,1}}{2} \\right)} - \\sqrt{1 - x_{2}^{2}} e^{\\frac{i \\theta^{0}_{1,0}}{2}} \\sin{\\left(\\frac{\\theta^{0}_{1,1}}{2} \\right)}\\right) e^{\\frac{i \\theta^{0}_{0,2}}{2}} e^{- \\frac{i \\theta^{0}_{1,2}}{2}}\\end{matrix}\\right]$"
      ],
      "text/plain": [
       "Matrix([\n",
       "[(x1*exp(-I*theta^0_0,0/2)*cos(theta^0_0,1/2) - sqrt(1 - x1**2)*exp(I*theta^0_0,0/2)*sin(theta^0_0,1/2))*(x2*exp(-I*theta^0_1,0/2)*cos(theta^0_1,1/2) - sqrt(1 - x2**2)*exp(I*theta^0_1,0/2)*sin(theta^0_1,1/2))*exp(-I*theta^0_0,2/2)*exp(-I*theta^0_1,2/2)],\n",
       "[ (x1*exp(-I*theta^0_0,0/2)*cos(theta^0_0,1/2) - sqrt(1 - x1**2)*exp(I*theta^0_0,0/2)*sin(theta^0_0,1/2))*(x2*exp(-I*theta^0_1,0/2)*sin(theta^0_1,1/2) + sqrt(1 - x2**2)*exp(I*theta^0_1,0/2)*cos(theta^0_1,1/2))*exp(-I*theta^0_0,2/2)*exp(I*theta^0_1,2/2)],\n",
       "[  (x1*exp(-I*theta^0_0,0/2)*sin(theta^0_0,1/2) + sqrt(1 - x1**2)*exp(I*theta^0_0,0/2)*cos(theta^0_0,1/2))*(x2*exp(-I*theta^0_1,0/2)*sin(theta^0_1,1/2) + sqrt(1 - x2**2)*exp(I*theta^0_1,0/2)*cos(theta^0_1,1/2))*exp(I*theta^0_0,2/2)*exp(I*theta^0_1,2/2)],\n",
       "[ (x1*exp(-I*theta^0_0,0/2)*sin(theta^0_0,1/2) + sqrt(1 - x1**2)*exp(I*theta^0_0,0/2)*cos(theta^0_0,1/2))*(x2*exp(-I*theta^0_1,0/2)*cos(theta^0_1,1/2) - sqrt(1 - x2**2)*exp(I*theta^0_1,0/2)*sin(theta^0_1,1/2))*exp(I*theta^0_0,2/2)*exp(-I*theta^0_1,2/2)]])"
      ]
     },
     "execution_count": 3,
     "metadata": {},
     "output_type": "execute_result"
    }
   ],
   "source": [
    "eta, phi = sp.symbols(\"eta phi\")\n",
    "x = sp.Matrix([2*sp.acos(eta), 2*sp.acos(phi)])\n",
    "\n",
    "x1, x2 = sp.symbols(\"x1:3\", real=True)\n",
    "x = sp.Matrix([2*sp.acos(x1), 2*sp.acos(x2)])\n",
    "\n",
    "enc = AngleEncoding(num_qubits=len(x), rot_gate=\"ry\")\n",
    "vqc = SingleRot(num_qubits=len(x), num_layers=1, prefix=\"theta\")\n",
    "circuit = enc + vqc\n",
    "\n",
    "sp.nsimplify(circuit(x).final_state)"
   ]
  },
  {
   "attachments": {},
   "cell_type": "markdown",
   "metadata": {},
   "source": [
    "### ENCDaughterNorm"
   ]
  },
  {
   "cell_type": "code",
   "execution_count": 35,
   "metadata": {},
   "outputs": [
    {
     "data": {
      "text/latex": [
       "$\\displaystyle \\eta \\phi pt \\sqrt{1 - pt^{2}} + \\eta \\phi pt \\overline{\\sqrt{1 - pt^{2}}} + pt \\sqrt{1 - \\eta^{2}} \\overline{\\sqrt{1 - \\phi^{2}}} \\overline{\\sqrt{1 - pt^{2}}} + pt \\sqrt{1 - \\phi^{2}} \\sqrt{1 - pt^{2}} \\overline{\\sqrt{1 - \\eta^{2}}}$"
      ],
      "text/plain": [
       "eta*phi*pt*sqrt(1 - pt**2) + eta*phi*pt*conjugate(sqrt(1 - pt**2)) + pt*sqrt(1 - eta**2)*conjugate(sqrt(1 - phi**2))*conjugate(sqrt(1 - pt**2)) + pt*sqrt(1 - phi**2)*sqrt(1 - pt**2)*conjugate(sqrt(1 - eta**2))"
      ]
     },
     "execution_count": 35,
     "metadata": {},
     "output_type": "execute_result"
    }
   ],
   "source": [
    "pt, eta, phi, delta_r, r = sp.symbols(\"pt eta phi Delta_r r\", real=True)\n",
    "circuit = Circuit(2)\n",
    "\n",
    "circuit.ry(2*sp.asin(pt), 0)\n",
    "circuit.cry(2*sp.asin(eta), 0, 1)\n",
    "circuit.x(0)\n",
    "circuit.cry(2*sp.asin(phi), 0, 1)\n",
    "\n",
    "# circuit.evolve()\n",
    "# circuit.final_state\n",
    "circuit.measure(0, \"X\")"
   ]
  },
  {
   "attachments": {},
   "cell_type": "markdown",
   "metadata": {},
   "source": [
    "### ENCDaughterBloch"
   ]
  },
  {
   "cell_type": "code",
   "execution_count": 5,
   "metadata": {},
   "outputs": [
    {
     "data": {
      "text/latex": [
       "$\\displaystyle \\frac{\\sqrt{pt} \\left(e^{2 i \\phi} \\sin{\\left(\\theta \\right)} \\cos{\\left(t \\right)} + 2 e^{i \\phi} \\sin{\\left(t \\right)} \\cos{\\left(\\theta \\right)} + \\sin{\\left(\\theta \\right)} \\cos{\\left(t \\right)}\\right) e^{- i \\phi} \\overline{\\sqrt{pt}}}{2}$"
      ],
      "text/plain": [
       "sqrt(pt)*(exp(2*I*phi)*sin(theta)*cos(t) + 2*exp(I*phi)*sin(t)*cos(theta) + sin(theta)*cos(t))*exp(-I*phi)*conjugate(sqrt(pt))/2"
      ]
     },
     "execution_count": 5,
     "metadata": {},
     "output_type": "execute_result"
    }
   ],
   "source": [
    "pt, theta, phi = sp.symbols(\"pt theta phi\", real=True)\n",
    "circuit = Circuit(2)\n",
    "\n",
    "circuit.ry(2*sp.asin(sp.sqrt(pt)), 0)\n",
    "circuit.cry(theta, 0, 1)\n",
    "circuit.crz(phi, 0, 1)\n",
    "\n",
    "# circuit.rx(theta=sp.Symbol(\"t\", real=True), wire=0)\n",
    "circuit.cry(theta=sp.Symbol(\"t\", real=True), wire1=0, wire2=1)\n",
    "\n",
    "mx = sp.simplify(circuit.measure(1, \"X\"))\n",
    "my = sp.simplify(circuit.measure(1, \"Y\"))\n",
    "mx"
   ]
  },
  {
   "cell_type": "code",
   "execution_count": 6,
   "metadata": {},
   "outputs": [
    {
     "data": {
      "text/latex": [
       "$\\displaystyle \\left(- \\sqrt{pt_{1}} \\sqrt{1 - pt_{2}} e^{\\frac{i \\phi_{1}}{2}} \\sin{\\left(\\frac{t}{2} \\right)} \\sin{\\left(\\frac{\\theta_{1}}{2} \\right)} + \\sqrt{pt_{1}} \\sqrt{1 - pt_{2}} e^{- \\frac{i \\phi_{1}}{2}} \\cos{\\left(\\frac{t}{2} \\right)} \\cos{\\left(\\frac{\\theta_{1}}{2} \\right)}\\right) \\left(e^{\\frac{i \\phi_{1}}{2}} \\sin{\\left(\\frac{t}{2} \\right)} \\cos{\\left(\\frac{\\theta_{1}}{2} \\right)} \\overline{\\sqrt{pt_{1}}} \\overline{\\sqrt{1 - pt_{2}}} + e^{- \\frac{i \\phi_{1}}{2}} \\sin{\\left(\\frac{\\theta_{1}}{2} \\right)} \\cos{\\left(\\frac{t}{2} \\right)} \\overline{\\sqrt{pt_{1}}} \\overline{\\sqrt{1 - pt_{2}}}\\right) + \\left(\\sqrt{pt_{1}} \\sqrt{1 - pt_{2}} e^{\\frac{i \\phi_{1}}{2}} \\sin{\\left(\\frac{\\theta_{1}}{2} \\right)} \\cos{\\left(\\frac{t}{2} \\right)} + \\sqrt{pt_{1}} \\sqrt{1 - pt_{2}} e^{- \\frac{i \\phi_{1}}{2}} \\sin{\\left(\\frac{t}{2} \\right)} \\cos{\\left(\\frac{\\theta_{1}}{2} \\right)}\\right) \\left(e^{\\frac{i \\phi_{1}}{2}} \\cos{\\left(\\frac{t}{2} \\right)} \\cos{\\left(\\frac{\\theta_{1}}{2} \\right)} \\overline{\\sqrt{pt_{1}}} \\overline{\\sqrt{1 - pt_{2}}} - e^{- \\frac{i \\phi_{1}}{2}} \\sin{\\left(\\frac{t}{2} \\right)} \\sin{\\left(\\frac{\\theta_{1}}{2} \\right)} \\overline{\\sqrt{pt_{1}}} \\overline{\\sqrt{1 - pt_{2}}}\\right) + \\left(- \\sqrt{pt_{1}} \\sqrt{pt_{2}} e^{\\frac{i \\phi_{1}}{2}} e^{- \\frac{i \\phi_{2}}{2}} \\sin{\\left(\\frac{t}{2} \\right)} \\sin{\\left(\\frac{\\theta_{1}}{2} \\right)} \\cos{\\left(\\frac{\\theta_{2}}{2} \\right)} + \\sqrt{pt_{1}} \\sqrt{pt_{2}} e^{- \\frac{i \\phi_{1}}{2}} e^{- \\frac{i \\phi_{2}}{2}} \\cos{\\left(\\frac{t}{2} \\right)} \\cos{\\left(\\frac{\\theta_{1}}{2} \\right)} \\cos{\\left(\\frac{\\theta_{2}}{2} \\right)}\\right) \\left(e^{\\frac{i \\phi_{1}}{2}} e^{\\frac{i \\phi_{2}}{2}} \\sin{\\left(\\frac{t}{2} \\right)} \\cos{\\left(\\frac{\\theta_{1}}{2} \\right)} \\cos{\\left(\\frac{\\theta_{2}}{2} \\right)} \\overline{\\sqrt{pt_{1}}} \\overline{\\sqrt{pt_{2}}} + e^{- \\frac{i \\phi_{1}}{2}} e^{\\frac{i \\phi_{2}}{2}} \\sin{\\left(\\frac{\\theta_{1}}{2} \\right)} \\cos{\\left(\\frac{t}{2} \\right)} \\cos{\\left(\\frac{\\theta_{2}}{2} \\right)} \\overline{\\sqrt{pt_{1}}} \\overline{\\sqrt{pt_{2}}}\\right) + \\left(\\sqrt{pt_{1}} \\sqrt{pt_{2}} e^{\\frac{i \\phi_{1}}{2}} e^{- \\frac{i \\phi_{2}}{2}} \\sin{\\left(\\frac{\\theta_{1}}{2} \\right)} \\cos{\\left(\\frac{t}{2} \\right)} \\cos{\\left(\\frac{\\theta_{2}}{2} \\right)} + \\sqrt{pt_{1}} \\sqrt{pt_{2}} e^{- \\frac{i \\phi_{1}}{2}} e^{- \\frac{i \\phi_{2}}{2}} \\sin{\\left(\\frac{t}{2} \\right)} \\cos{\\left(\\frac{\\theta_{1}}{2} \\right)} \\cos{\\left(\\frac{\\theta_{2}}{2} \\right)}\\right) \\left(e^{\\frac{i \\phi_{1}}{2}} e^{\\frac{i \\phi_{2}}{2}} \\cos{\\left(\\frac{t}{2} \\right)} \\cos{\\left(\\frac{\\theta_{1}}{2} \\right)} \\cos{\\left(\\frac{\\theta_{2}}{2} \\right)} \\overline{\\sqrt{pt_{1}}} \\overline{\\sqrt{pt_{2}}} - e^{- \\frac{i \\phi_{1}}{2}} e^{\\frac{i \\phi_{2}}{2}} \\sin{\\left(\\frac{t}{2} \\right)} \\sin{\\left(\\frac{\\theta_{1}}{2} \\right)} \\cos{\\left(\\frac{\\theta_{2}}{2} \\right)} \\overline{\\sqrt{pt_{1}}} \\overline{\\sqrt{pt_{2}}}\\right) + \\left(- \\sqrt{pt_{1}} \\sqrt{pt_{2}} e^{\\frac{i \\phi_{1}}{2}} e^{\\frac{i \\phi_{2}}{2}} \\sin{\\left(\\frac{t}{2} \\right)} \\sin{\\left(\\frac{\\theta_{1}}{2} \\right)} \\sin{\\left(\\frac{\\theta_{2}}{2} \\right)} + \\sqrt{pt_{1}} \\sqrt{pt_{2}} e^{- \\frac{i \\phi_{1}}{2}} e^{\\frac{i \\phi_{2}}{2}} \\sin{\\left(\\frac{\\theta_{2}}{2} \\right)} \\cos{\\left(\\frac{t}{2} \\right)} \\cos{\\left(\\frac{\\theta_{1}}{2} \\right)}\\right) \\left(e^{\\frac{i \\phi_{1}}{2}} e^{- \\frac{i \\phi_{2}}{2}} \\sin{\\left(\\frac{t}{2} \\right)} \\sin{\\left(\\frac{\\theta_{2}}{2} \\right)} \\cos{\\left(\\frac{\\theta_{1}}{2} \\right)} \\overline{\\sqrt{pt_{1}}} \\overline{\\sqrt{pt_{2}}} + e^{- \\frac{i \\phi_{1}}{2}} e^{- \\frac{i \\phi_{2}}{2}} \\sin{\\left(\\frac{\\theta_{1}}{2} \\right)} \\sin{\\left(\\frac{\\theta_{2}}{2} \\right)} \\cos{\\left(\\frac{t}{2} \\right)} \\overline{\\sqrt{pt_{1}}} \\overline{\\sqrt{pt_{2}}}\\right) + \\left(\\sqrt{pt_{1}} \\sqrt{pt_{2}} e^{\\frac{i \\phi_{1}}{2}} e^{\\frac{i \\phi_{2}}{2}} \\sin{\\left(\\frac{\\theta_{1}}{2} \\right)} \\sin{\\left(\\frac{\\theta_{2}}{2} \\right)} \\cos{\\left(\\frac{t}{2} \\right)} + \\sqrt{pt_{1}} \\sqrt{pt_{2}} e^{- \\frac{i \\phi_{1}}{2}} e^{\\frac{i \\phi_{2}}{2}} \\sin{\\left(\\frac{t}{2} \\right)} \\sin{\\left(\\frac{\\theta_{2}}{2} \\right)} \\cos{\\left(\\frac{\\theta_{1}}{2} \\right)}\\right) \\left(e^{\\frac{i \\phi_{1}}{2}} e^{- \\frac{i \\phi_{2}}{2}} \\sin{\\left(\\frac{\\theta_{2}}{2} \\right)} \\cos{\\left(\\frac{t}{2} \\right)} \\cos{\\left(\\frac{\\theta_{1}}{2} \\right)} \\overline{\\sqrt{pt_{1}}} \\overline{\\sqrt{pt_{2}}} - e^{- \\frac{i \\phi_{1}}{2}} e^{- \\frac{i \\phi_{2}}{2}} \\sin{\\left(\\frac{t}{2} \\right)} \\sin{\\left(\\frac{\\theta_{1}}{2} \\right)} \\sin{\\left(\\frac{\\theta_{2}}{2} \\right)} \\overline{\\sqrt{pt_{1}}} \\overline{\\sqrt{pt_{2}}}\\right)$"
      ],
      "text/plain": [
       "(-sqrt(pt_1)*sqrt(1 - pt_2)*exp(I*phi_1/2)*sin(t/2)*sin(theta_1/2) + sqrt(pt_1)*sqrt(1 - pt_2)*exp(-I*phi_1/2)*cos(t/2)*cos(theta_1/2))*(exp(I*phi_1/2)*sin(t/2)*cos(theta_1/2)*conjugate(sqrt(pt_1))*conjugate(sqrt(1 - pt_2)) + exp(-I*phi_1/2)*sin(theta_1/2)*cos(t/2)*conjugate(sqrt(pt_1))*conjugate(sqrt(1 - pt_2))) + (sqrt(pt_1)*sqrt(1 - pt_2)*exp(I*phi_1/2)*sin(theta_1/2)*cos(t/2) + sqrt(pt_1)*sqrt(1 - pt_2)*exp(-I*phi_1/2)*sin(t/2)*cos(theta_1/2))*(exp(I*phi_1/2)*cos(t/2)*cos(theta_1/2)*conjugate(sqrt(pt_1))*conjugate(sqrt(1 - pt_2)) - exp(-I*phi_1/2)*sin(t/2)*sin(theta_1/2)*conjugate(sqrt(pt_1))*conjugate(sqrt(1 - pt_2))) + (-sqrt(pt_1)*sqrt(pt_2)*exp(I*phi_1/2)*exp(-I*phi_2/2)*sin(t/2)*sin(theta_1/2)*cos(theta_2/2) + sqrt(pt_1)*sqrt(pt_2)*exp(-I*phi_1/2)*exp(-I*phi_2/2)*cos(t/2)*cos(theta_1/2)*cos(theta_2/2))*(exp(I*phi_1/2)*exp(I*phi_2/2)*sin(t/2)*cos(theta_1/2)*cos(theta_2/2)*conjugate(sqrt(pt_1))*conjugate(sqrt(pt_2)) + exp(-I*phi_1/2)*exp(I*phi_2/2)*sin(theta_1/2)*cos(t/2)*cos(theta_2/2)*conjugate(sqrt(pt_1))*conjugate(sqrt(pt_2))) + (sqrt(pt_1)*sqrt(pt_2)*exp(I*phi_1/2)*exp(-I*phi_2/2)*sin(theta_1/2)*cos(t/2)*cos(theta_2/2) + sqrt(pt_1)*sqrt(pt_2)*exp(-I*phi_1/2)*exp(-I*phi_2/2)*sin(t/2)*cos(theta_1/2)*cos(theta_2/2))*(exp(I*phi_1/2)*exp(I*phi_2/2)*cos(t/2)*cos(theta_1/2)*cos(theta_2/2)*conjugate(sqrt(pt_1))*conjugate(sqrt(pt_2)) - exp(-I*phi_1/2)*exp(I*phi_2/2)*sin(t/2)*sin(theta_1/2)*cos(theta_2/2)*conjugate(sqrt(pt_1))*conjugate(sqrt(pt_2))) + (-sqrt(pt_1)*sqrt(pt_2)*exp(I*phi_1/2)*exp(I*phi_2/2)*sin(t/2)*sin(theta_1/2)*sin(theta_2/2) + sqrt(pt_1)*sqrt(pt_2)*exp(-I*phi_1/2)*exp(I*phi_2/2)*sin(theta_2/2)*cos(t/2)*cos(theta_1/2))*(exp(I*phi_1/2)*exp(-I*phi_2/2)*sin(t/2)*sin(theta_2/2)*cos(theta_1/2)*conjugate(sqrt(pt_1))*conjugate(sqrt(pt_2)) + exp(-I*phi_1/2)*exp(-I*phi_2/2)*sin(theta_1/2)*sin(theta_2/2)*cos(t/2)*conjugate(sqrt(pt_1))*conjugate(sqrt(pt_2))) + (sqrt(pt_1)*sqrt(pt_2)*exp(I*phi_1/2)*exp(I*phi_2/2)*sin(theta_1/2)*sin(theta_2/2)*cos(t/2) + sqrt(pt_1)*sqrt(pt_2)*exp(-I*phi_1/2)*exp(I*phi_2/2)*sin(t/2)*sin(theta_2/2)*cos(theta_1/2))*(exp(I*phi_1/2)*exp(-I*phi_2/2)*sin(theta_2/2)*cos(t/2)*cos(theta_1/2)*conjugate(sqrt(pt_1))*conjugate(sqrt(pt_2)) - exp(-I*phi_1/2)*exp(-I*phi_2/2)*sin(t/2)*sin(theta_1/2)*sin(theta_2/2)*conjugate(sqrt(pt_1))*conjugate(sqrt(pt_2)))"
      ]
     },
     "execution_count": 6,
     "metadata": {},
     "output_type": "execute_result"
    }
   ],
   "source": [
    "pt1, theta1, phi1 = sp.symbols(\"pt_1 theta_1 phi_1\", real=True)\n",
    "pt2, theta2, phi2 = sp.symbols(\"pt_2 theta_2 phi_2\", real=True)\n",
    "circuit = Circuit(4)\n",
    "\n",
    "circuit.ry(2*sp.asin(sp.sqrt(pt1)), 0)\n",
    "circuit.ry(2*sp.asin(sp.sqrt(pt2)), 1)\n",
    "circuit.cry(theta1, 0, 2)\n",
    "circuit.cry(theta2, 1, 3)\n",
    "circuit.crz(phi1, 0, 2)\n",
    "circuit.crz(phi2, 1, 3)\n",
    "\n",
    "# circuit.rx(theta=sp.Symbol(\"t\", real=True), wire=0)\n",
    "circuit.cry(theta=sp.Symbol(\"t\", real=True), wire1=0, wire2=2)\n",
    "\n",
    "# sp.simplify(circuit.measure(1, \"Y\"))\n",
    "circuit.measure(2, \"X\")"
   ]
  },
  {
   "attachments": {},
   "cell_type": "markdown",
   "metadata": {},
   "source": [
    "### Poster"
   ]
  }
 ],
 "metadata": {
  "kernelspec": {
   "display_name": "Python 3",
   "language": "python",
   "name": "python3"
  },
  "language_info": {
   "codemirror_mode": {
    "name": "ipython",
    "version": 3
   },
   "file_extension": ".py",
   "mimetype": "text/x-python",
   "name": "python",
   "nbconvert_exporter": "python",
   "pygments_lexer": "ipython3",
   "version": "3.9.12 (main, Dec 28 2022, 00:55:49) \n[GCC 9.4.0]"
  },
  "orig_nbformat": 4,
  "vscode": {
   "interpreter": {
    "hash": "abdd0d95ca50f233d1202cce1ba28eab5ada50f7ec17823ef40ef9b79347f6f5"
   }
  }
 },
 "nbformat": 4,
 "nbformat_minor": 2
}
