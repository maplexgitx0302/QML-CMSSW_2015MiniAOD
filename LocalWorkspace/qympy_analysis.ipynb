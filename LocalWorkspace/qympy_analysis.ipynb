{
 "cells": [
  {
   "cell_type": "code",
   "execution_count": 2,
   "metadata": {},
   "outputs": [],
   "source": [
    "import sympy as sp\n",
    "import qympy as qp\n",
    "from qympy.quantum_circuit.sp_circuit import Circuit\n",
    "from qympy.machine_learning.quantum import AngleEncoding, SingleRot"
   ]
  },
  {
   "cell_type": "code",
   "execution_count": 3,
   "metadata": {},
   "outputs": [],
   "source": [
    "eta, phi = sp.symbols(\"eta phi\")\n",
    "x = sp.Matrix([2*sp.acos(eta), 2*sp.acos(phi)])\n",
    "\n",
    "x1, x2, x3 = sp.symbols(\"x1:4\", real=True)\n",
    "x = sp.Matrix([2*sp.acos(x1), 2*sp.acos(x2), 2*sp.acos(x3)])\n",
    "\n",
    "enc = AngleEncoding(num_qubits=len(x), rot_gate=\"ry\")\n",
    "vqc = SingleRot(num_qubits=len(x), num_layers=1, prefix=\"theta\")\n",
    "circuit = enc\n",
    "\n",
    "# sp.nsimplify(circuit(x).final_state)"
   ]
  },
  {
   "cell_type": "code",
   "execution_count": 4,
   "metadata": {},
   "outputs": [],
   "source": [
    "circuit = Circuit(3)\n",
    "x1, x2, x3 = sp.symbols(\"x1:4\", real=True)\n",
    "x = sp.Matrix([x1, x2, x3])\n",
    "y1, y2, y3 = sp.symbols(\"y1:4\", real=True)\n",
    "y = sp.Matrix([y1, y2, y3])\n",
    "\n",
    "for i in range(len(x)):\n",
    "    circuit.h(i)\n",
    "    circuit.ryy(2*sp.acos(x[i]), i, (i+1)%len(x))\n",
    "    # circuit.ry(2*sp.acos(x[i]), i)\n",
    "\n",
    "# circuit.evolve()\n",
    "# circuit.final_state"
   ]
  },
  {
   "cell_type": "code",
   "execution_count": 27,
   "metadata": {},
   "outputs": [
    {
     "data": {
      "text/latex": [
       "$\\displaystyle \\left[\\begin{matrix}1 - pt^{2}\\\\0\\\\pt \\sqrt{1 - pt^{2}}\\\\0\\\\\\sqrt{1 - \\phi^{2}} \\left(- \\eta pt^{2} + pt \\sqrt{1 - \\eta^{2}} \\sqrt{1 - pt^{2}}\\right)\\\\\\phi \\left(- \\eta pt^{2} + pt \\sqrt{1 - \\eta^{2}} \\sqrt{1 - pt^{2}}\\right)\\\\\\sqrt{1 - \\phi^{2}} \\left(\\eta pt \\sqrt{1 - pt^{2}} + pt^{2} \\sqrt{1 - \\eta^{2}}\\right)\\\\\\phi \\left(\\eta pt \\sqrt{1 - pt^{2}} + pt^{2} \\sqrt{1 - \\eta^{2}}\\right)\\end{matrix}\\right]$"
      ],
      "text/plain": [
       "Matrix([\n",
       "[                                                          1 - pt**2],\n",
       "[                                                                  0],\n",
       "[                                                 pt*sqrt(1 - pt**2)],\n",
       "[                                                                  0],\n",
       "[sqrt(1 - phi**2)*(-eta*pt**2 + pt*sqrt(1 - eta**2)*sqrt(1 - pt**2))],\n",
       "[             phi*(-eta*pt**2 + pt*sqrt(1 - eta**2)*sqrt(1 - pt**2))],\n",
       "[ sqrt(1 - phi**2)*(eta*pt*sqrt(1 - pt**2) + pt**2*sqrt(1 - eta**2))],\n",
       "[              phi*(eta*pt*sqrt(1 - pt**2) + pt**2*sqrt(1 - eta**2))]])"
      ]
     },
     "execution_count": 27,
     "metadata": {},
     "output_type": "execute_result"
    }
   ],
   "source": [
    "pt, eta, phi, delta_r, r = sp.symbols(\"pt eta phi Delta_r r\", real=True)\n",
    "pt1, eta1, phi1, r1 = sp.symbols(\"pt_1 eta_1 phi_1 r_1\", real=True)\n",
    "pt2, eta2, phi2, r2 = sp.symbols(\"pt_2 eta_2 phi_2 r_2\", real=True)\n",
    "\n",
    "circuit = Circuit(3)\n",
    "\n",
    "# circuit.ry(2*sp.asin(eta), 1)\n",
    "# circuit.ry(2*sp.asin(phi), 2)\n",
    "\n",
    "circuit.ry(2*sp.asin(pt), 0)\n",
    "circuit.ry(2*sp.asin(pt), 1)\n",
    "circuit.cry(2*sp.asin(eta), 0, 1)\n",
    "circuit.cry(2*sp.asin(phi), 0, 2)\n",
    "\n",
    "# circuit.ry(2*sp.asin(pt * delta_r / r1), 0)\n",
    "# circuit.ry(2*sp.asin(pt * delta_r / r1), 1)\n",
    "# circuit.cry(2*sp.asin(eta / delta_r), 0, 2)\n",
    "# circuit.cry(2*sp.asin(phi / delta_r), 1, 2)\n",
    "\n",
    "# circuit.x(0)\n",
    "# circuit.x(1)\n",
    "# circuit.cry(2*sp.asin(eta1), 0, 2)\n",
    "# circuit.cry(2*sp.asin(phi1), 1, 2)\n",
    "# circuit.x(0)\n",
    "# circuit.x(1)\n",
    "\n",
    "circuit.evolve()\n",
    "circuit.final_state\n",
    "\n",
    "\n",
    "# qml.RY(2 * torch.asin(norm_pt[ptc]), wires=3*ptc)\n",
    "# qml.RY(2 * torch.asin(norm_pt[ptc]), wires=3*ptc+1)\n",
    "# qml.CRY(2 * torch.asin(norm_eta[ptc]), wires=[3*ptc, 3*ptc+2])\n",
    "# qml.CRY(2 * torch.asin(norm_phi[ptc]), wires=[3*ptc+1, 3*ptc+2])"
   ]
  }
 ],
 "metadata": {
  "kernelspec": {
   "display_name": "Python 3.9.12 64-bit ('shims')",
   "language": "python",
   "name": "python3"
  },
  "language_info": {
   "codemirror_mode": {
    "name": "ipython",
    "version": 3
   },
   "file_extension": ".py",
   "mimetype": "text/x-python",
   "name": "python",
   "nbconvert_exporter": "python",
   "pygments_lexer": "ipython3",
   "version": "3.9.12"
  },
  "orig_nbformat": 4,
  "vscode": {
   "interpreter": {
    "hash": "6f02055337d253f388db8c747d2eda41151d1a914a22500b5c34c6d448cd4f3e"
   }
  }
 },
 "nbformat": 4,
 "nbformat_minor": 2
}
