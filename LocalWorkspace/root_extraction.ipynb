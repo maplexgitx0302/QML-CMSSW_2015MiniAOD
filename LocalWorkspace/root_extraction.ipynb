{
 "cells": [
  {
   "cell_type": "code",
   "execution_count": 1,
   "metadata": {},
   "outputs": [],
   "source": [
    "import numpy as np\n",
    "import matplotlib.pyplot as plt\n",
    "\n",
    "import uproot\n",
    "import awkward as ak\n",
    "import root_extraction"
   ]
  },
  {
   "cell_type": "code",
   "execution_count": 2,
   "metadata": {},
   "outputs": [
    {
     "name": "stdout",
     "output_type": "stream",
     "text": [
      "['numberjet', 'jet_e', 'jet_pt', 'jet_eta', 'jet_phi', 'jet_ch', 'jet_mass', 'jet_daughter_e', 'jet_daughter_pt', 'jet_daughter_eta', 'jet_daughter_phi', 'jet_daughter_ch', 'jet_daughter_mass', 'numberfatjet', 'fatjet_e', 'fatjet_pt', 'fatjet_eta', 'fatjet_phi', 'fatjet_ch', 'fatjet_mass', 'fatjet_daughter_e', 'fatjet_daughter_pt', 'fatjet_daughter_eta', 'fatjet_daughter_phi', 'fatjet_daughter_ch', 'fatjet_daughter_mass']\n"
     ]
    }
   ],
   "source": [
    "processes = [\n",
    "    \"ZprimeToZhToZinvhbb\",\n",
    "    \"ZprimeToZhToZlephbb\",\n",
    "    \"QCD_HT1500to2000\",\n",
    "    \"QCD_HT2000toInf\",\n",
    "]\n",
    "\n",
    "eps = 1e-3\n",
    "for process in processes:\n",
    "    root_file = f\"../ZprimeToZh_VS_QCD/Analyzer/{process}.root\"\n",
    "    uproot_file = uproot.open(root_file)\n",
    "    events = uproot_file['jets/Events']\n",
    "\n",
    "    daughter_e, key_cut_e   = root_extraction.max_selection(events, \"jet\", \"e\", True)\n",
    "    daughter_pt, key_cut_pt = root_extraction.max_selection(events, \"jet\", \"pt\", True)\n",
    "\n",
    "    mismatch_count = 0\n",
    "    ratio = ak.sum(key_cut_e == key_cut_pt) / len(events['jet_e'].array())\n",
    "\n",
    "    print(f\"{processes} ratio = {ratio}\")"
   ]
  },
  {
   "cell_type": "code",
   "execution_count": 7,
   "metadata": {},
   "outputs": [
    {
     "data": {
      "text/plain": [
       "2"
      ]
     },
     "execution_count": 7,
     "metadata": {},
     "output_type": "execute_result"
    }
   ],
   "source": [
    "a = ak.Array([[1], [2], [3]])\n",
    "b = ak.Array([[1], [4], [3]])\n",
    "ak.sum(a==b)"
   ]
  }
 ],
 "metadata": {
  "kernelspec": {
   "display_name": "Python 3.8.11 64-bit ('3.8.11')",
   "language": "python",
   "name": "python3"
  },
  "language_info": {
   "codemirror_mode": {
    "name": "ipython",
    "version": 3
   },
   "file_extension": ".py",
   "mimetype": "text/x-python",
   "name": "python",
   "nbconvert_exporter": "python",
   "pygments_lexer": "ipython3",
   "version": "3.8.11"
  },
  "orig_nbformat": 4,
  "vscode": {
   "interpreter": {
    "hash": "a5395b5e764a4418832adfd38f48924b0b13b60dc8377c790fe1d1109da8842f"
   }
  }
 },
 "nbformat": 4,
 "nbformat_minor": 2
}
