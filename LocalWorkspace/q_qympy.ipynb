{
 "cells": [
  {
   "cell_type": "code",
   "execution_count": 2,
   "metadata": {},
   "outputs": [],
   "source": [
    "import sympy as sp\n",
    "from qympy.quantum_circuit.sp_circuit import Circuit"
   ]
  },
  {
   "attachments": {},
   "cell_type": "markdown",
   "metadata": {},
   "source": [
    "### Poly"
   ]
  },
  {
   "cell_type": "code",
   "execution_count": 5,
   "metadata": {},
   "outputs": [
    {
     "data": {
      "text/latex": [
       "$\\displaystyle \\left[\\begin{matrix}pt_{1} pt_{2} \\sqrt{1 - \\eta_{1}^{2}} \\sqrt{1 - \\eta_{2}^{2}}\\\\\\eta_{2} pt_{1} pt_{2} \\sqrt{1 - \\eta_{1}^{2}}\\\\pt_{1} \\sqrt{1 - \\eta_{1}^{2}} \\sqrt{1 - \\phi_{1}^{2}} \\sqrt{1 - pt_{2}^{2}}\\\\\\phi_{1} pt_{1} \\sqrt{1 - \\eta_{1}^{2}} \\sqrt{1 - pt_{2}^{2}}\\\\\\eta_{1} pt_{1} pt_{2} \\sqrt{1 - \\eta_{2}^{2}}\\\\\\eta_{1} \\eta_{2} pt_{1} pt_{2}\\\\\\eta_{1} pt_{1} \\sqrt{1 - \\phi_{1}^{2}} \\sqrt{1 - pt_{2}^{2}}\\\\\\eta_{1} \\phi_{1} pt_{1} \\sqrt{1 - pt_{2}^{2}}\\\\pt_{2} \\sqrt{1 - \\eta_{2}^{2}} \\sqrt{1 - \\phi_{1}^{2}} \\sqrt{1 - pt_{1}^{2}}\\\\\\eta_{2} pt_{2} \\sqrt{1 - \\phi_{1}^{2}} \\sqrt{1 - pt_{1}^{2}}\\\\\\left(1 - \\phi_{1}^{2}\\right) \\sqrt{1 - pt_{1}^{2}} \\sqrt{1 - pt_{2}^{2}}\\\\\\phi_{1} \\sqrt{1 - \\phi_{1}^{2}} \\sqrt{1 - pt_{1}^{2}} \\sqrt{1 - pt_{2}^{2}}\\\\\\phi_{1} pt_{2} \\sqrt{1 - \\eta_{2}^{2}} \\sqrt{1 - pt_{1}^{2}}\\\\\\eta_{2} \\phi_{1} pt_{2} \\sqrt{1 - pt_{1}^{2}}\\\\\\phi_{1} \\sqrt{1 - \\phi_{1}^{2}} \\sqrt{1 - pt_{1}^{2}} \\sqrt{1 - pt_{2}^{2}}\\\\\\phi_{1}^{2} \\sqrt{1 - pt_{1}^{2}} \\sqrt{1 - pt_{2}^{2}}\\end{matrix}\\right]$"
      ],
      "text/plain": [
       "Matrix([\n",
       "[             pt_1*pt_2*sqrt(1 - eta_1**2)*sqrt(1 - eta_2**2)],\n",
       "[                          eta_2*pt_1*pt_2*sqrt(1 - eta_1**2)],\n",
       "[pt_1*sqrt(1 - eta_1**2)*sqrt(1 - phi_1**2)*sqrt(1 - pt_2**2)],\n",
       "[             phi_1*pt_1*sqrt(1 - eta_1**2)*sqrt(1 - pt_2**2)],\n",
       "[                          eta_1*pt_1*pt_2*sqrt(1 - eta_2**2)],\n",
       "[                                       eta_1*eta_2*pt_1*pt_2],\n",
       "[             eta_1*pt_1*sqrt(1 - phi_1**2)*sqrt(1 - pt_2**2)],\n",
       "[                          eta_1*phi_1*pt_1*sqrt(1 - pt_2**2)],\n",
       "[pt_2*sqrt(1 - eta_2**2)*sqrt(1 - phi_1**2)*sqrt(1 - pt_1**2)],\n",
       "[             eta_2*pt_2*sqrt(1 - phi_1**2)*sqrt(1 - pt_1**2)],\n",
       "[          (1 - phi_1**2)*sqrt(1 - pt_1**2)*sqrt(1 - pt_2**2)],\n",
       "[phi_1*sqrt(1 - phi_1**2)*sqrt(1 - pt_1**2)*sqrt(1 - pt_2**2)],\n",
       "[             phi_1*pt_2*sqrt(1 - eta_2**2)*sqrt(1 - pt_1**2)],\n",
       "[                          eta_2*phi_1*pt_2*sqrt(1 - pt_1**2)],\n",
       "[phi_1*sqrt(1 - phi_1**2)*sqrt(1 - pt_1**2)*sqrt(1 - pt_2**2)],\n",
       "[                phi_1**2*sqrt(1 - pt_1**2)*sqrt(1 - pt_2**2)]])"
      ]
     },
     "execution_count": 5,
     "metadata": {},
     "output_type": "execute_result"
    }
   ],
   "source": [
    "pt1, eta1, phi1 = sp.symbols(\"pt_1 eta_1 phi_1\", real=True)\n",
    "pt2, eta2, phi2 = sp.symbols(\"pt_2 eta_2 phi_2\", real=True)\n",
    "\n",
    "qc = Circuit(4)\n",
    "qc.ry(2*sp.asin(pt1), 0)\n",
    "qc.ry(2*sp.asin(pt2), 2)\n",
    "qc.cry(2*sp.asin(eta1), 0, 1)\n",
    "qc.cry(2*sp.asin(eta2), 2, 3)\n",
    "qc.x(0)\n",
    "qc.x(2)\n",
    "qc.cry(2*sp.asin(phi1), 0, 1)\n",
    "qc.cry(2*sp.asin(phi1), 2, 3)\n",
    "\n",
    "qc.evolve()\n",
    "qc.final_state"
   ]
  },
  {
   "attachments": {},
   "cell_type": "markdown",
   "metadata": {},
   "source": [
    "### Bloch"
   ]
  },
  {
   "cell_type": "code",
   "execution_count": 3,
   "metadata": {},
   "outputs": [
    {
     "data": {
      "text/latex": [
       "$\\displaystyle \\left[\\begin{matrix}\\sqrt{1 - pt_{1}^{2}} \\sqrt{1 - pt_{2}^{2}}\\\\0\\\\0\\\\0\\\\pt_{2} \\sqrt{1 - pt_{1}^{2}} e^{- \\frac{i \\phi_{2}}{2}} \\cos{\\left(\\frac{\\theta_{2}}{2} \\right)}\\\\pt_{2} \\sqrt{1 - pt_{1}^{2}} e^{\\frac{i \\phi_{2}}{2}} \\sin{\\left(\\frac{\\theta_{2}}{2} \\right)}\\\\0\\\\0\\\\pt_{1} \\sqrt{1 - pt_{2}^{2}} e^{- \\frac{i \\phi_{1}}{2}} \\cos{\\left(\\frac{\\theta_{1}}{2} \\right)}\\\\0\\\\pt_{1} \\sqrt{1 - pt_{2}^{2}} e^{\\frac{i \\phi_{1}}{2}} \\sin{\\left(\\frac{\\theta_{1}}{2} \\right)}\\\\0\\\\pt_{1} pt_{2} e^{- \\frac{i \\phi_{1}}{2}} e^{- \\frac{i \\phi_{2}}{2}} \\cos{\\left(\\frac{\\theta_{1}}{2} \\right)} \\cos{\\left(\\frac{\\theta_{2}}{2} \\right)}\\\\pt_{1} pt_{2} e^{- \\frac{i \\phi_{1}}{2}} e^{\\frac{i \\phi_{2}}{2}} \\sin{\\left(\\frac{\\theta_{2}}{2} \\right)} \\cos{\\left(\\frac{\\theta_{1}}{2} \\right)}\\\\pt_{1} pt_{2} e^{\\frac{i \\phi_{1}}{2}} e^{- \\frac{i \\phi_{2}}{2}} \\sin{\\left(\\frac{\\theta_{1}}{2} \\right)} \\cos{\\left(\\frac{\\theta_{2}}{2} \\right)}\\\\pt_{1} pt_{2} e^{\\frac{i \\phi_{1}}{2}} e^{\\frac{i \\phi_{2}}{2}} \\sin{\\left(\\frac{\\theta_{1}}{2} \\right)} \\sin{\\left(\\frac{\\theta_{2}}{2} \\right)}\\end{matrix}\\right]$"
      ],
      "text/plain": [
       "Matrix([\n",
       "[                                    sqrt(1 - pt_1**2)*sqrt(1 - pt_2**2)],\n",
       "[                                                                      0],\n",
       "[                                                                      0],\n",
       "[                                                                      0],\n",
       "[                  pt_2*sqrt(1 - pt_1**2)*exp(-I*phi_2/2)*cos(theta_2/2)],\n",
       "[                   pt_2*sqrt(1 - pt_1**2)*exp(I*phi_2/2)*sin(theta_2/2)],\n",
       "[                                                                      0],\n",
       "[                                                                      0],\n",
       "[                  pt_1*sqrt(1 - pt_2**2)*exp(-I*phi_1/2)*cos(theta_1/2)],\n",
       "[                                                                      0],\n",
       "[                   pt_1*sqrt(1 - pt_2**2)*exp(I*phi_1/2)*sin(theta_1/2)],\n",
       "[                                                                      0],\n",
       "[pt_1*pt_2*exp(-I*phi_1/2)*exp(-I*phi_2/2)*cos(theta_1/2)*cos(theta_2/2)],\n",
       "[ pt_1*pt_2*exp(-I*phi_1/2)*exp(I*phi_2/2)*sin(theta_2/2)*cos(theta_1/2)],\n",
       "[ pt_1*pt_2*exp(I*phi_1/2)*exp(-I*phi_2/2)*sin(theta_1/2)*cos(theta_2/2)],\n",
       "[  pt_1*pt_2*exp(I*phi_1/2)*exp(I*phi_2/2)*sin(theta_1/2)*sin(theta_2/2)]])"
      ]
     },
     "execution_count": 3,
     "metadata": {},
     "output_type": "execute_result"
    }
   ],
   "source": [
    "pt1, theta1, phi1 = sp.symbols(\"pt_1 theta_1 phi_1\", real=True)\n",
    "pt2, theta2, phi2 = sp.symbols(\"pt_2 theta_2 phi_2\", real=True)\n",
    "\n",
    "qc = Circuit(4)\n",
    "qc.ry(2*sp.asin(pt1), 0)\n",
    "qc.ry(2*sp.asin(pt2), 1)\n",
    "qc.cry(theta1, 0, 2)\n",
    "qc.cry(theta2, 1, 3)\n",
    "qc.crz(phi1, 0, 2)\n",
    "qc.crz(phi2, 1, 3)\n",
    "\n",
    "qc.evolve()\n",
    "qc.final_state"
   ]
  }
 ],
 "metadata": {
  "kernelspec": {
   "display_name": "Python 3",
   "language": "python",
   "name": "python3"
  },
  "language_info": {
   "codemirror_mode": {
    "name": "ipython",
    "version": 3
   },
   "file_extension": ".py",
   "mimetype": "text/x-python",
   "name": "python",
   "nbconvert_exporter": "python",
   "pygments_lexer": "ipython3",
   "version": "3.9.12"
  },
  "orig_nbformat": 4
 },
 "nbformat": 4,
 "nbformat_minor": 2
}
